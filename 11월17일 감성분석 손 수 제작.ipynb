{
 "cells": [
  {
   "cell_type": "code",
   "execution_count": 1,
   "metadata": {},
   "outputs": [],
   "source": [
    "import pandas as pd\n",
    "import numpy as np\n",
    "import matplotlib.pyplot as plt\n",
    "import re\n",
    "import urllib.request\n",
    "from konlpy.tag import Okt\n",
    "from tensorflow.keras.preprocessing.text import Tokenizer\n",
    "from tensorflow.keras.preprocessing.sequence import pad_sequences"
   ]
  },
  {
   "cell_type": "code",
   "execution_count": 2,
   "metadata": {},
   "outputs": [],
   "source": [
    "train_data= pd.read_csv(\"C:/Users/sungj/jspyth/emotion.csv\",encoding='CP949')\n",
    "test_data= pd.read_csv(\"C:/Users/sungj/jspyth/emotion2-(1).csv\",encoding='CP949')\n",
    "train_data[:5]\n",
    "train_data.loc[train_data[\"labe\"] == 0,\"labe\"] = -1 #3개로 하려고 했는데 데이터 수 차이가 너무 많이 나서 중립을 -1로 변경"
   ]
  },
  {
   "cell_type": "code",
   "execution_count": 3,
   "metadata": {},
   "outputs": [
    {
     "data": {
      "text/plain": [
       "(100, 2)"
      ]
     },
     "execution_count": 3,
     "metadata": {},
     "output_type": "execute_result"
    }
   ],
   "source": [
    "train_data['title'].nunique(),train_data['labe'].nunique() #100개의 데이터 -1,1로 2개"
   ]
  },
  {
   "cell_type": "code",
   "execution_count": 4,
   "metadata": {},
   "outputs": [
    {
     "data": {
      "text/plain": [
       "(27, 2)"
      ]
     },
     "execution_count": 4,
     "metadata": {},
     "output_type": "execute_result"
    }
   ],
   "source": [
    "test_data['title'].nunique(),train_data['labe'].nunique() #100개의 데이터 -1,1로 2개"
   ]
  },
  {
   "cell_type": "code",
   "execution_count": 5,
   "metadata": {},
   "outputs": [
    {
     "data": {
      "text/plain": [
       "<matplotlib.axes._subplots.AxesSubplot at 0x2031894f9a0>"
      ]
     },
     "execution_count": 5,
     "metadata": {},
     "output_type": "execute_result"
    },
    {
     "data": {
      "image/png": "[encoded data removed]",
      "text/plain": [
       "<Figure size 432x288 with 1 Axes>"
      ]
     },
     "metadata": {
      "needs_background": "light"
     },
     "output_type": "display_data"
    }
   ],
   "source": [
    "train_data['labe'].value_counts().plot(kind = 'bar')"
   ]
  },
  {
   "cell_type": "code",
   "execution_count": 6,
   "metadata": {},
   "outputs": [
    {
     "data": {
      "text/plain": [
       "<matplotlib.axes._subplots.AxesSubplot at 0x20317086070>"
      ]
     },
     "execution_count": 6,
     "metadata": {},
     "output_type": "execute_result"
    },
    {
     "data": {
      "image/png": "[encoded data removed]",
      "text/plain": [
       "<Figure size 432x288 with 1 Axes>"
      ]
     },
     "metadata": {
      "needs_background": "light"
     },
     "output_type": "display_data"
    }
   ],
   "source": [
    "test_data['labe'].value_counts().plot(kind = 'bar')"
   ]
  },
  {
   "cell_type": "code",
   "execution_count": 7,
   "metadata": {},
   "outputs": [
    {
     "name": "stdout",
     "output_type": "stream",
     "text": [
      "   labe  count\n",
      "0    -1     38\n",
      "1     1     62\n"
     ]
    }
   ],
   "source": [
    "print(train_data.groupby('labe').size().reset_index(name = 'count')) #갯수확인 정확한"
   ]
  },
  {
   "cell_type": "code",
   "execution_count": 8,
   "metadata": {},
   "outputs": [
    {
     "name": "stdout",
     "output_type": "stream",
     "text": [
      "   labe  count\n",
      "0    -1      7\n",
      "1     1     20\n"
     ]
    }
   ],
   "source": [
    "print(test_data.groupby('labe').size().reset_index(name = 'count')) #갯수확인 정확한"
   ]
  },
  {
   "cell_type": "code",
   "execution_count": 9,
   "metadata": {},
   "outputs": [
    {
     "name": "stdout",
     "output_type": "stream",
     "text": [
      "False\n"
     ]
    }
   ],
   "source": [
    "print(train_data.isnull().values.any()) #na값이 있는지 확인"
   ]
  },
  {
   "cell_type": "code",
   "execution_count": 10,
   "metadata": {},
   "outputs": [
    {
     "name": "stdout",
     "output_type": "stream",
     "text": [
      "False\n"
     ]
    }
   ],
   "source": [
    "print(test_data.isnull().values.any()) "
   ]
  },
  {
   "cell_type": "code",
   "execution_count": 11,
   "metadata": {},
   "outputs": [],
   "source": [
    "train_data['title'] = train_data['title'].str.replace(\"[^ㄱ-ㅎㅏ-ㅣ가-힣 ]\",\"\") #한글과 공백제거\n",
    "test_data['title'] = test_data['title'].str.replace(\"[^ㄱ-ㅎㅏ-ㅣ가-힣 ]\",\"\")"
   ]
  },
  {
   "cell_type": "code",
   "execution_count": 12,
   "metadata": {},
   "outputs": [
    {
     "data": {
      "text/html": [
       "<div>\n",
       "<style scoped>\n",
       "    .dataframe tbody tr th:only-of-type {\n",
       "        vertical-align: middle;\n",
       "    }\n",
       "\n",
       "    .dataframe tbody tr th {\n",
       "        vertical-align: top;\n",
       "    }\n",
       "\n",
       "    .dataframe thead th {\n",
       "        text-align: right;\n",
       "    }\n",
       "</style>\n",
       "<table border=\"1\" class=\"dataframe\">\n",
       "  <thead>\n",
       "    <tr style=\"text-align: right;\">\n",
       "      <th></th>\n",
       "      <th>Unnamed: 0</th>\n",
       "      <th>title</th>\n",
       "      <th>labe</th>\n",
       "    </tr>\n",
       "  </thead>\n",
       "  <tbody>\n",
       "    <tr>\n",
       "      <th>0</th>\n",
       "      <td>2</td>\n",
       "      <td>시판제품중에선 미쯔랑 가장 비슷한데 씁쓸한 초코맛이 진하진않아요 작은 초코칩이 박혀...</td>\n",
       "      <td>1</td>\n",
       "    </tr>\n",
       "    <tr>\n",
       "      <th>1</th>\n",
       "      <td>3</td>\n",
       "      <td>불량식품같은 맛이네요 단단하면서 뚝 부러지는 비스킷같은거일줄알았는데 파사삭 부숴지는...</td>\n",
       "      <td>-1</td>\n",
       "    </tr>\n",
       "    <tr>\n",
       "      <th>2</th>\n",
       "      <td>4</td>\n",
       "      <td>초코칩이 제 입엔 젤 맛있어요 사실 초코 맛은 끝에 미미하게 느껴지긴 하지만 고소하...</td>\n",
       "      <td>1</td>\n",
       "    </tr>\n",
       "    <tr>\n",
       "      <th>3</th>\n",
       "      <td>5</td>\n",
       "      <td>시나몬 맛을 엄청 좋아하고 모양이 귀엽길래 호기심에 사봤어요 생각보다 시나몬 향이 ...</td>\n",
       "      <td>-1</td>\n",
       "    </tr>\n",
       "    <tr>\n",
       "      <th>4</th>\n",
       "      <td>6</td>\n",
       "      <td>아들이 살때 과자를 조금씩 먹기 시작하면서 한참 아이에서 많이 사먹던 거였어요 이제...</td>\n",
       "      <td>-1</td>\n",
       "    </tr>\n",
       "    <tr>\n",
       "      <th>5</th>\n",
       "      <td>7</td>\n",
       "      <td>별개가 아깝지않은 상품인거같아여젤리만 시킬생각이었는데 겉포장만 보고 내용물사진이비슷...</td>\n",
       "      <td>1</td>\n",
       "    </tr>\n",
       "    <tr>\n",
       "      <th>6</th>\n",
       "      <td>8</td>\n",
       "      <td>초코 좋아하는 딸램 간식 유기농이라 믿고 먹습니다 미국 코슷코에서는 네가지맛 개별포...</td>\n",
       "      <td>1</td>\n",
       "    </tr>\n",
       "    <tr>\n",
       "      <th>7</th>\n",
       "      <td>9</td>\n",
       "      <td>기대안하고 산건데 진짜 맛있어요 달짝지근한데 많이 달지않고 초코맛은 별로안나요 꼬독...</td>\n",
       "      <td>1</td>\n",
       "    </tr>\n",
       "    <tr>\n",
       "      <th>8</th>\n",
       "      <td>10</td>\n",
       "      <td>바바라 애니멀 쿠키보다 과자 사이즈가 이네요 토끼 사이즈가 작아서 먹기엔 더 편한데...</td>\n",
       "      <td>1</td>\n",
       "    </tr>\n",
       "    <tr>\n",
       "      <th>9</th>\n",
       "      <td>11</td>\n",
       "      <td>시나몬 좋아해서 맛있었어요 아기들이 먹는 과자에 시나몬향이 더해진 과자입니다 토끼모...</td>\n",
       "      <td>1</td>\n",
       "    </tr>\n",
       "    <tr>\n",
       "      <th>10</th>\n",
       "      <td>12</td>\n",
       "      <td>남편이 애 과자 챙겨주다 먹더니 맛있대요ㅋㅋㅋ 저도 먹으니 맛있네요 다이제통곡물인가...</td>\n",
       "      <td>1</td>\n",
       "    </tr>\n",
       "    <tr>\n",
       "      <th>11</th>\n",
       "      <td>13</td>\n",
       "      <td>너무 달지 않은 시나몬맛 크래커 사이즈가 작고 동물 모양이 매우 귀엽구요 우유나 커...</td>\n",
       "      <td>1</td>\n",
       "    </tr>\n",
       "    <tr>\n",
       "      <th>12</th>\n",
       "      <td>14</td>\n",
       "      <td>차나 커피 마실 때 한 줌 꺼내두고 같이 먹으니까 좋아요 개인적으로 시나몬 향은 그...</td>\n",
       "      <td>1</td>\n",
       "    </tr>\n",
       "    <tr>\n",
       "      <th>13</th>\n",
       "      <td>15</td>\n",
       "      <td>이거 그냥 보여서 샀는데 너무 맛있고 달달하고 꿀 맛이고 토끼모양도 귀엽고 양도 많다</td>\n",
       "      <td>1</td>\n",
       "    </tr>\n",
       "    <tr>\n",
       "      <th>14</th>\n",
       "      <td>16</td>\n",
       "      <td>다른거 하나 사봤었는데 재료도 좋고 맛도 좋아서 이번엔 다른 종류들 여러개 사봤어요...</td>\n",
       "      <td>1</td>\n",
       "    </tr>\n",
       "    <tr>\n",
       "      <th>15</th>\n",
       "      <td>17</td>\n",
       "      <td>별주기도아까움심슨시리얼 비슷한 향이라도 나면 다행 진짜 핵노맛 대노맛</td>\n",
       "      <td>-1</td>\n",
       "    </tr>\n",
       "    <tr>\n",
       "      <th>16</th>\n",
       "      <td>18</td>\n",
       "      <td>늘먹는과자 많이달지않고 재료착해서 애들먹일때좋으네요</td>\n",
       "      <td>1</td>\n",
       "    </tr>\n",
       "    <tr>\n",
       "      <th>17</th>\n",
       "      <td>19</td>\n",
       "      <td>시나몬향이 좀 달라요약냄새같기도ㅡㅡ</td>\n",
       "      <td>-1</td>\n",
       "    </tr>\n",
       "    <tr>\n",
       "      <th>18</th>\n",
       "      <td>20</td>\n",
       "      <td>그냥저냥 너무 달고 ㅜㅜ 버석거리고 좀 그래요</td>\n",
       "      <td>-1</td>\n",
       "    </tr>\n",
       "    <tr>\n",
       "      <th>19</th>\n",
       "      <td>21</td>\n",
       "      <td>초코맛이 젤 바삭바삭하고 맛있어요</td>\n",
       "      <td>1</td>\n",
       "    </tr>\n",
       "    <tr>\n",
       "      <th>20</th>\n",
       "      <td>22</td>\n",
       "      <td>맛있기는한데 너무 달아요</td>\n",
       "      <td>1</td>\n",
       "    </tr>\n",
       "    <tr>\n",
       "      <th>21</th>\n",
       "      <td>23</td>\n",
       "      <td>비스킷이에요</td>\n",
       "      <td>1</td>\n",
       "    </tr>\n",
       "    <tr>\n",
       "      <th>22</th>\n",
       "      <td>24</td>\n",
       "      <td>맛있어요</td>\n",
       "      <td>1</td>\n",
       "    </tr>\n",
       "    <tr>\n",
       "      <th>23</th>\n",
       "      <td>25</td>\n",
       "      <td>아가가 좋아하네요</td>\n",
       "      <td>1</td>\n",
       "    </tr>\n",
       "    <tr>\n",
       "      <th>24</th>\n",
       "      <td>26</td>\n",
       "      <td>맛있네요 반신반의 했는데 맛나요</td>\n",
       "      <td>1</td>\n",
       "    </tr>\n",
       "    <tr>\n",
       "      <th>25</th>\n",
       "      <td>27</td>\n",
       "      <td>바삭바삭</td>\n",
       "      <td>1</td>\n",
       "    </tr>\n",
       "    <tr>\n",
       "      <th>26</th>\n",
       "      <td>28</td>\n",
       "      <td>생각보다 버니크레커 사이즈가 작아요 봉지에 공기가 많았음에도 크렉커가 많이 부서지져...</td>\n",
       "      <td>-1</td>\n",
       "    </tr>\n",
       "  </tbody>\n",
       "</table>\n",
       "</div>"
      ],
      "text/plain": [
       "    Unnamed: 0                                              title  labe\n",
       "0            2  시판제품중에선 미쯔랑 가장 비슷한데 씁쓸한 초코맛이 진하진않아요 작은 초코칩이 박혀...     1\n",
       "1            3  불량식품같은 맛이네요 단단하면서 뚝 부러지는 비스킷같은거일줄알았는데 파사삭 부숴지는...    -1\n",
       "2            4  초코칩이 제 입엔 젤 맛있어요 사실 초코 맛은 끝에 미미하게 느껴지긴 하지만 고소하...     1\n",
       "3            5  시나몬 맛을 엄청 좋아하고 모양이 귀엽길래 호기심에 사봤어요 생각보다 시나몬 향이 ...    -1\n",
       "4            6  아들이 살때 과자를 조금씩 먹기 시작하면서 한참 아이에서 많이 사먹던 거였어요 이제...    -1\n",
       "5            7  별개가 아깝지않은 상품인거같아여젤리만 시킬생각이었는데 겉포장만 보고 내용물사진이비슷...     1\n",
       "6            8  초코 좋아하는 딸램 간식 유기농이라 믿고 먹습니다 미국 코슷코에서는 네가지맛 개별포...     1\n",
       "7            9  기대안하고 산건데 진짜 맛있어요 달짝지근한데 많이 달지않고 초코맛은 별로안나요 꼬독...     1\n",
       "8           10  바바라 애니멀 쿠키보다 과자 사이즈가 이네요 토끼 사이즈가 작아서 먹기엔 더 편한데...     1\n",
       "9           11  시나몬 좋아해서 맛있었어요 아기들이 먹는 과자에 시나몬향이 더해진 과자입니다 토끼모...     1\n",
       "10          12  남편이 애 과자 챙겨주다 먹더니 맛있대요ㅋㅋㅋ 저도 먹으니 맛있네요 다이제통곡물인가...     1\n",
       "11          13  너무 달지 않은 시나몬맛 크래커 사이즈가 작고 동물 모양이 매우 귀엽구요 우유나 커...     1\n",
       "12          14  차나 커피 마실 때 한 줌 꺼내두고 같이 먹으니까 좋아요 개인적으로 시나몬 향은 그...     1\n",
       "13          15    이거 그냥 보여서 샀는데 너무 맛있고 달달하고 꿀 맛이고 토끼모양도 귀엽고 양도 많다     1\n",
       "14          16  다른거 하나 사봤었는데 재료도 좋고 맛도 좋아서 이번엔 다른 종류들 여러개 사봤어요...     1\n",
       "15          17             별주기도아까움심슨시리얼 비슷한 향이라도 나면 다행 진짜 핵노맛 대노맛    -1\n",
       "16          18                       늘먹는과자 많이달지않고 재료착해서 애들먹일때좋으네요     1\n",
       "17          19                                시나몬향이 좀 달라요약냄새같기도ㅡㅡ    -1\n",
       "18          20                          그냥저냥 너무 달고 ㅜㅜ 버석거리고 좀 그래요    -1\n",
       "19          21                                 초코맛이 젤 바삭바삭하고 맛있어요     1\n",
       "20          22                                      맛있기는한데 너무 달아요     1\n",
       "21          23                                             비스킷이에요     1\n",
       "22          24                                               맛있어요     1\n",
       "23          25                                          아가가 좋아하네요     1\n",
       "24          26                                  맛있네요 반신반의 했는데 맛나요     1\n",
       "25          27                                               바삭바삭     1\n",
       "26          28  생각보다 버니크레커 사이즈가 작아요 봉지에 공기가 많았음에도 크렉커가 많이 부서지져...    -1"
      ]
     },
     "execution_count": 12,
     "metadata": {},
     "output_type": "execute_result"
    }
   ],
   "source": [
    "test_data"
   ]
  },
  {
   "cell_type": "code",
   "execution_count": 13,
   "metadata": {},
   "outputs": [
    {
     "name": "stdout",
     "output_type": "stream",
     "text": [
      "Unnamed: 0    0\n",
      "title         0\n",
      "labe          0\n",
      "dtype: int64\n"
     ]
    }
   ],
   "source": [
    "train_data['title'].replace('', np.nan, inplace=True)\n",
    "print(train_data.isnull().sum())#na값 확인"
   ]
  },
  {
   "cell_type": "code",
   "execution_count": 14,
   "metadata": {},
   "outputs": [
    {
     "name": "stdout",
     "output_type": "stream",
     "text": [
      "Unnamed: 0    0\n",
      "title         0\n",
      "labe          0\n",
      "dtype: int64\n"
     ]
    }
   ],
   "source": [
    "test_data['title'].replace('', np.nan, inplace=True)\n",
    "print(test_data.isnull().sum())#na값 확인"
   ]
  },
  {
   "cell_type": "markdown",
   "metadata": {},
   "source": [
    "# 토큰화"
   ]
  },
  {
   "cell_type": "code",
   "execution_count": 15,
   "metadata": {},
   "outputs": [],
   "source": [
    "stopwords = ['의','가','이','은','들','는','좀','잘','걍','과','도','를','으로','자','에','와','한','하다'] #불용어 정의"
   ]
  },
  {
   "cell_type": "code",
   "execution_count": 16,
   "metadata": {},
   "outputs": [],
   "source": [
    "okt = Okt()"
   ]
  },
  {
   "cell_type": "code",
   "execution_count": 17,
   "metadata": {},
   "outputs": [],
   "source": [
    "X_train = []\n",
    "for sentence in train_data['title']:\n",
    "    temp_X = []\n",
    "    temp_X = okt.morphs(sentence, stem=True) # 토큰화\n",
    "    temp_X = [word for word in temp_X if not word in stopwords] # 불용어 제거\n",
    "    X_train.append(temp_X)"
   ]
  },
  {
   "cell_type": "code",
   "execution_count": 18,
   "metadata": {},
   "outputs": [
    {
     "name": "stdout",
     "output_type": "stream",
     "text": [
      "[['아들', '쵸코', '과자', '급', '땡기다', '주문', '오늘', '배송', '받다', '세', '봉지', '뽁뽁', '안', '넣다', '오다', '워낙', '과자', '얇다', '바삭', '형태', '라서', '부숴', '지다', '오다', '전', '좀더', '브라우니', '같다', '맛', '을', '기대하다', '촉촉하다', '쵸코', '칩', '쿠키', '얇다', '썰다', '바삭', '구', '운맛', '이네', '요', 'ㅋㅋㅋ', '아들', '같이', '구매', '로아커', '제품', '더', '맛있다', '그래서', '맛', '보다', '또', '구매', '싶다', '않다', '그냥', '맛', '을', '보다', '거', '로', '만족하다']]\n"
     ]
    }
   ],
   "source": [
    "print(X_train[:1]) # 상위 1개만 결과 확인"
   ]
  },
  {
   "cell_type": "code",
   "execution_count": 19,
   "metadata": {},
   "outputs": [],
   "source": [
    "X_test = []\n",
    "for sentence in test_data['title']:\n",
    "    temp_X = []\n",
    "    temp_X = okt.morphs(sentence, stem=True) # 토큰화\n",
    "    temp_X = [word for word in temp_X if not word in stopwords] # 불용어 제거\n",
    "    X_test.append(temp_X)"
   ]
  },
  {
   "cell_type": "code",
   "execution_count": 20,
   "metadata": {},
   "outputs": [
    {
     "name": "stdout",
     "output_type": "stream",
     "text": [
      "[['시판', '제품', '중', '에선', '미쯔', '랑', '가장', '비슷하다', '씁쓸하다', '초코', '맛', '진하다', '않다', '작다', '초코', '칩', '박히다', '생각', '보단', '달달', '통밀', '이라', '약간', '끄다', '끄다', '기', '도합', '니', '다', '성분', '좋다']]\n"
     ]
    }
   ],
   "source": [
    "print(X_test[:1]) # 상위 1개만 결과 확인"
   ]
  },
  {
   "cell_type": "markdown",
   "metadata": {},
   "source": [
    "# 정수인코딩"
   ]
  },
  {
   "cell_type": "code",
   "execution_count": 21,
   "metadata": {},
   "outputs": [],
   "source": [
    "tokenizer = Tokenizer()\n",
    "tokenizer.fit_on_texts(X_train)"
   ]
  },
  {
   "cell_type": "code",
   "execution_count": 22,
   "metadata": {},
   "outputs": [
    {
     "name": "stdout",
     "output_type": "stream",
     "text": [
      "{'먹다': 1, '맛': 2, '맛있다': 3, '초코': 4, '같다': 5, '과자': 6, '달다': 7, '보다': 8, '너무': 9, '바삭': 10, '요': 11, '브라우니': 12, '않다': 13, '다': 14, '칩': 15, '쿠키': 16, '엄청': 17, '오다': 18, '랑': 19, '좋다': 20, '봉지': 21, '느낌': 22, '있다': 23, '많이': 24, '없다': 25, '더': 26, '진짜': 27, '나': 28, '구매': 29, '생각': 30, '우유': 31, '달': 32, '때': 33, '을': 34, '거': 35, '개': 36, '에서': 37, '되다': 38, '것': 39, '이다': 40, '부서지다': 41, '만': 42, '안': 43, '얇다': 44, '식감': 45, '자다': 46, '사먹다': 47, '제': 48, '저': 49, '좋아하다': 50, '아니다': 51, '그': 52, '달달': 53, '고': 54, '주문': 55, '인데': 56, 'ㅎㅎ': 57, '많다': 58, '들다': 59, '배송': 60, '불다': 61, '게': 62, '사다': 63, '단맛': 64, '세': 65, '전': 66, 'ㅋㅋㅋ': 67, '또': 68, '그냥': 69, '보고': 70, '근데': 71, '지': 72, '서': 73, '부분': 74, '가격': 75, '그래도': 76, '넘다': 77, '같이': 78, '이에요': 79, 'ㅋㅋ': 80, '딱': 81, '나다': 82, 'ㅠ': 83, '바삭바삭하다': 84, '조각': 85, '땡기다': 86, '싶다': 87, '초콜릿': 88, '말리다': 89, '이라': 90, '하': 91, '쿠팡': 92, '네': 93, '수': 94, '두': 95, '한번': 96, '약간': 97, '하고': 98, '설탕': 99, 'ㅠㅠ': 100, '구': 101, '로': 102, '인지': 103, '바싹': 104, '어떻다': 105, '커피': 106, '그렇다': 107, '당': 108, '가루': 109, '손': 110, '처럼': 111, '아메리카노': 112, '저렴하다': 113, '시키다': 114, '내': 115, '단': 116, '존맛': 117, '지퍼': 118, '백': 119, '인': 120, '정말': 121, '예요': 122, '씩': 123, '먹기': 124, '입': 125, '에는': 126, '계속': 127, '달콤하다': 128, '받다': 129, '워낙': 130, '촉촉하다': 131, '중': 132, '깨다': 133, '원래': 134, '완전': 135, '조금': 136, '직구': 137, '라': 138, '칼로리': 139, '열다': 140, '순삭': 141, '면': 142, 'ㅜㅜ': 143, '박히다': 144, '분': 145, '놓다': 146, '딱딱하다': 147, '가끔': 148, '최고': 149, '찾다': 150, '단점': 151, '주다': 152, '추천': 153, '처음': 154, '짱': 155, '짜다': 156, '잇다': 157, '넣다': 158, '지다': 159, '이네': 160, '제품': 161, '그래서': 162, '브리틀': 163, '째': 164, 'ㅋㅋㅋㅋ': 165, '살짝': 166, '모르다': 167, '듯': 168, '이랑': 169, '남다': 170, '이면': 171, '해외': 172, '다시': 173, '싫어하다': 174, '사람': 175, '일': 176, '탱': 177, '엇': 178, '늘다': 179, '가요': 180, '아주': 181, 'ㅎㅎㅎ': 182, '번': 183, '생각나다': 184, '개개': 185, '식': 186, '충전': 187, '다만': 188, '후기': 189, '파삭파삭': 190, '굉장하다': 191, '느끼다': 192, '거리': 193, '초코쿠키': 194, '못': 195, '두다': 196, '눅눅하다': 197, '찌다': 198, '향': 199, '지만': 200, '달라': 201, '친구': 202, '양': 203, '해': 204, '하나': 205, '이건': 206, '이상': 207, '자리': 208, '멈추다': 209, '그렇게': 210, '엔': 211, '중독': 212, '성': 213, '기대': 214, '어울리다': 215, '아들': 216, '쵸코': 217, '급': 218, '부숴': 219, '기대하다': 220, '만족하다': 221, '몇개': 222, '머핀': 223, '가리다': 224, '모두': 225, '뭔들': 226, '납작하다': 227, '온건': 228, '을해': 229, '양은': 230, '가볍다': 231, '한잔': 232, '남아': 233, '밀봉': 234, '건가': 235, '국산': 236, '어금니': 237, '쌓이다': 238, '건조하다': 239, '홈': 240, '적': 241, '모양': 242, '죄다': 243, '상품': 244, '평': 245, '얼마': 246, '안되다': 247, '젤': 248, '까지': 249, '롯데': 250, '마트': 251, '부터': 252, '돼지': 253, '시': 254, '알다': 255, '에요': 256, '케이크': 257, '붙다': 258, '진심': 259, '금액': 260, '원': 261, '궁금하다': 262, '바로': 263, '단것': 264, '하지만': 265, '걱정': 266, '누룽지': 267, '건': 268, '필수': 269, '고급스럽다': 270, '판매': 271, '파다': 272, '그때': 273, '걸': 274, '만큼': 275, '고급': 276, '겁나다': 277, '다른': 278, '비다': 279, '엄마': 280, '가게': 281, 'ㅎ': 282, '감다': 283, '두세': 284, '아쉽다': 285, '살때': 286, '말다': 287, '전혀': 288, '임': 289, '팔다': 290, '직접': 291, '운': 292, '끝': 293, '만들다': 294, '비슷하다': 295, '파스': 296, '락': 297, '니까': 298, '구리다': 299, '떨어지다': 300, '꼭': 301, '봉투': 302, '만족스럽다': 303, '비추다': 304, '가득하다': 305, '사라지다': 306, '그리고': 307, '쯤': 308, '남기다': 309, '이렇다': 310, '마음': 311, '이나': 312, '쩐내': 313, 'ㅡ': 314, '시리얼': 315, '부다': 316, '금방': 317, '때문': 318, '드리다': 319, '진하다': 320, '편이': 321, '가득': 322, '강하다': 323, '정도': 324, '어렵다': 325, '동생': 326, '별로': 327, '후': 328, '마다': 329, '살다': 330, '덕후': 331, '그대로': 332, '미국': 333, '심심하다': 334, '반': 335, '꾸다': 336, '덕': 337, '다음': 338, 'ㅠㅠㅠ': 339, '달고나': 340, '빨리': 341, '와도': 342, '리뷰': 343, '바': 344, '덩어리': 345, '버리다': 346, '취향': 347, '난': 348, '햇': 349, '하루': 350, '덜': 351, '날': 352, '뭐라다': 353, '한국': 354, '로켓': 355, '런가': 356, '자주': 357, '바삭바삭': 358, '오늘': 359, '뽁뽁': 360, '형태': 361, '라서': 362, '좀더': 363, '썰다': 364, '운맛': 365, '로아커': 366, '벌써': 367, '요즘': 368, '이정': 369, '호기심': 370, '볼': 371, '버석버석': 372, '씹다': 373, 'ㅡㅡ': 374, '이빨': 375, '끈': 376, '빈츠': 377, '의식': 378, '흐름': 379, '주의': 380, '세네': 381, '뇨': 382, '이하': 383, '닫다': 384, '부럽다': 385, '손듭니': 386, '마시다': 387, '닝겐': 388, '시르다': 389, '직구도': 390, '겨우': 391, '떡하니': 392, '런': 393, '쥬': 394, '쌩돈': 395, '내다': 396, '욧': 397, '다이어트': 398, '사요나라': 399, '란': 400, '원시인': 401, '모': 402, '쪼록': 403, '인기': 404, '리스트': 405, '없어지다': 406, '하소': 407, '아위': 408, '아더': 409, '월드': 410, '사랑': 411, '아': 412, '욬': 413, '거핵존맛': 414, '구울': 415, '모서리': 416, '그렇다고': 417, '안달': 418, '지도': 419, '자꾸': 420, '게다가': 421, '쵝오': 422, '사진': 423, '그런데': 424, '스타일': 425, '욤': 426, '듬성듬성': 427, '사면': 428, '정돈': 429, '이고': 430, '압착': 431, '이기다': 432, '한데': 433, '음': 434, '가공': 435, '느껴지다': 436, '궁금증': 437, '해소': 438, '네오': 439, '눌려': 440, '콕콕': 441, '디게': 442, '쌉써롭': 443, '고소하다': 444, '따로': 445, '수입': 446, '질': 447, '간식': 448, '애': 449, 'ㅋ': 450, '고등학생': 451, '기억': 452, '나서다': 453, '입맛': 454, '바뀌다': 455, '까먹다': 456, '예전': 457, '행복하다': 458, '객': 459, '불량': 460, '식품': 461, '스럽다': 462, '맛임': 463, '최애': 464, '크리스': 465, '피하': 466, '낮다': 467, '빵': 468, '운영': 469, '해주다': 470, '맛남': 471, '레알': 472, 'ㄴㄴ': 473, '파사삭': 474, '미치다': 475, '먹어주다': 476, '멀리': 477, '부스러지다': 478, '보안': 479, '묶음': 480, '탑': 481, '이던': 482, '대': 483, '뭐해': 484, '택배': 485, '어쩔': 486, '수없이': 487, '뿌셔': 488, '야금야금': 489, '문제': 490, '존': 491, '뫗탱': 492, '구리': 493, '개존맛': 494, '맛았': 495, '긋다': 496, '퍼석': 497, '겠다': 498, '꾹': 499, '누르다': 500, '시중': 501, '말고': 502, '집': 503, '오븐': 504, '노릇': 505, '중간': 506, '모이다': 507, '래야': 508, '수가': 509, 'ㅈㅁㅌ': 510, '굳이': 511, '만지다': 512, '보': 513, '위쪽': 514, '왜': 515, '틀다': 516, '써봄마싯땨': 517, '화질': 518, '저만큼': 519, '창렬': 520, '배송비': 521, '몸': 522, '퍼': 523, '한지': 524, '딱이다': 525, '한가지': 526, '아무리': 527, '질소': 528, '대체': 529, '상': 530, '하차': 531, '속': 532, '의문': 533, '흘리다': 534, '서다': 535, '받치다': 536, '그릇': 537, '듬뿍': 538, '쌍둥이': 539, '아가': 540, '쪼끔씩': 541, '떼다': 542, '보아': 543, '음식': 544, '크다': 545, '커피한잔': 546, '지퍼락': 547, '조금씩': 548, '힘드다': 549, '보기': 550, '드물다': 551, '묘': 552, '없이': 553, '괜찮다': 554, '근': 555, '데': 556, '비주': 557, '얼': 558, '막상': 559, '부숴진': 560, '문득': 561, '신세계': 562, '흡입': 563, '는걸': 564, '혹은': 565, '전자렌지': 566, '돌리다': 567, '그윽': 568, '핫초코': 569, '짱짱': 570, '우아': 571, '칩맛': 572, '국내': 573, '랑은': 574, '첵스': 575, '나요': 576, '남친': 577, '멀다': 578, '빠르다': 579, '녹다': 580, '상처': 581, '거나': 582, '목': 583, '메이지': 584, '윗': 585, '형식': 586, '이라서': 587, '보관': 588, '용이하다': 589, '힘들다': 590, '다행': 591, '크게': 592, '말고는': 593, '여러': 594, '총': 595, '나누다': 596, '남자친구': 597, '그러다가': 598, '며칠': 599, 'ㅋㅋㅋㅋㅋㅋ': 600, '엊그제': 601, 'ㅋㅋㅋㅋㅋ': 602, '역대': 603, '인생': 604, '뚝딱': 605, '빠삭해': 606, '꿀맛': 607, '맞추다': 608, '대비': 609, '버전': 610, '행복': 611, '흡': 612, '니': 613, '잠굴': 614, '잠그다': 615, '일주일': 616, '중이': 617, '강': 618, '추하다': 619, '앞': 620, '애용': 621, '오래': 622, '표면': 623, '촉감': 624, '까슬까슬': 625, '구멍': 626, '송송': 627, '현무암': 628, '이해': 629, '보다는': 630, '번은': 631, '다행하다': 632, '포장': 633, '류': 634, '질리다': 635, '생기다': 636, '건지다': 637, '감': 638, '초콜렛': 639, '민트': 640, '말': 641, '로는': 642, '샤브레': 643, '진': 644, '눈': 645, '배': 646, '몹시': 647, '쌉쌀하다': 648, '스트레스': 649, '듯이': 650, '몇': 651, '밑': 652, '두봉': 653, '지는': 654, '아깝다': 655, '본가': 656, '에도': 657, '레벨': 658, '풍': 659, '미가': 660, '엄청나다': 661, '단종': 662, '열': 663, '자마자': 664, '퍼지다': 665, '칙촉냄새': 666, '이성': 667, '잃다': 668, '차': 669, '일반': 670, '비': 671, '점': 672, '조화': 673, '만듭니': 674, '쓸다': 675, '필요': 676, '오픈': 677, '남김없이': 678, '작년': 679, '홈플': 680, '플': 681, '돌다': 682, '포기': 683, '우연히': 684, '발견': 685, '기쁘다': 686, 'ㅠㅠㅠㅠㅠㅜ': 687, '역시': 688, '마싀써': 689, '에여': 690, '적다': 691, '뒤늦다': 692, '누군가': 693, '이란': 694, '글': 695, '물개': 696, '박수': 697, '치고': 698, '남편': 699, '이며': 700, '언니': 701, '며': 702, '먹이다': 703, '욕먹다': 704, '칙촉': 705, '봉': 706, '어쩌나': 707, '이예': 708, '진리': 709, '어느새다': 710, '닦다': 711, '보이다': 712, '쌓다': 713, '살찌다': 714, '차다': 715, '어느': 716, '이든': 717, '에게': 718, '매우': 719, '부스러기': 720, '씨리얼': 721, '재다': 722, '평소': 723, '도해': 724, '사보다': 725, '일단': 726, '이이이': 727, '캬캬': 728, '여서': 729, '원형': 730, '깔다': 731, '그치다': 732, '만은': 733, '최': 734, '곱다': 735, '동기': 736, '털다': 737, '맛있드': 738, '번째': 739, '인류': 740, '위': 741, '낭비': 742, '라는': 743, '아끼다': 744, '맘': 745, '먹음': 746, '대부분': 747, '되어다': 748, '상자': 749, '꽉차다': 750, '깨지다': 751, '구입': 752, '예정': 753, '팔리다': 754, '장사': 755, '발렌타인': 756, '야하다': 757, '신랑': 758, '에서는': 759, '가장': 760, '지난번': 761, '매': 762, '어': 763, '사드': 764, '쫀득': 765, '아이스': 766, '카피': 767, '브라우': 768, '리': 769, '끝맛': 770, '써다': 771, '사기': 772, '부족하다': 773, '너무하다': 774, '라고': 775, '기다': 776, '한두': 777, '끝나다': 778, '엥': 779, '시간': 780, '지나다': 781, '꺼내다': 782, '두번째': 783, '덜덜': 784, '보단': 785, '딸': 786, '사': 787, '파삭': 788, '폭탄': 789, '피': 790, '양도': 791, '다르다': 792, '무': 793, '뜯다': 794, '오래되다': 795, '보내다': 796, '예상': 797, '용기': 798, '별루': 799, '그리다': 800, '텁텁': 801, '쵸콜릿': 802, '치다': 803, '매니아': 804, '층': 805, '요담': 806, '채우다': 807, '타다': 808, '첵스초코': 809, '별': 810, '싸구려': 811, '너무나도': 812, '아이스크림': 813, '데코': 814, '나용': 815, '욯': 816, '화나다': 817, '기분': 818, '좋아지다': 819, '토피': 820, '솔티드': 821, '카라멜': 822, '싸다': 823, '건조': 824, '밀가루': 825, '오': 826, '쭉': 827, '읽다': 828, '호불호': 829, '엄격하다': 830, '갈리다': 831, '생리': 832, '렷': 833, '초코렛': 834, '짭쪼롬': 835, '신기': 836, '방기': 837, '에야': 838, '짬': 839, '갑': 840, '최대': 841, '스낵': 842}\n"
     ]
    }
   ],
   "source": [
    "print(tokenizer.word_index)"
   ]
  },
  {
   "cell_type": "code",
   "execution_count": 23,
   "metadata": {},
   "outputs": [
    {
     "name": "stdout",
     "output_type": "stream",
     "text": [
      "단어 집합(vocabulary)의 크기 : 842\n",
      "등장 빈도가 1번 이하인 희귀 단어의 수: 484\n",
      "단어 집합에서 희귀 단어의 비율: 57.482185273159146\n",
      "전체 등장 빈도에서 희귀 단어 등장 빈도 비율: 18.250377073906485\n"
     ]
    }
   ],
   "source": [
    "threshold = 2\n",
    "total_cnt = len(tokenizer.word_index) # 단어의 수\n",
    "rare_cnt = 0 # 등장 빈도수가 threshold보다 작은 단어의 개수를 카운트\n",
    "total_freq = 0 # 훈련 데이터의 전체 단어 빈도수 총 합\n",
    "rare_freq = 0 # 등장 빈도수가 threshold보다 작은 단어의 등장 빈도수의 총 합\n",
    "\n",
    "# 단어와 빈도수의 쌍(pair)을 key와 value로 받는다.\n",
    "for key, value in tokenizer.word_counts.items():\n",
    "    total_freq = total_freq + value\n",
    "\n",
    "    # 단어의 등장 빈도수가 threshold보다 작으면\n",
    "    if(value < threshold):\n",
    "        rare_cnt = rare_cnt + 1\n",
    "        rare_freq = rare_freq + value\n",
    "\n",
    "print('단어 집합(vocabulary)의 크기 :',total_cnt)\n",
    "print('등장 빈도가 %s번 이하인 희귀 단어의 수: %s'%(threshold - 1, rare_cnt))\n",
    "print(\"단어 집합에서 희귀 단어의 비율:\", (rare_cnt / total_cnt)*100)\n",
    "print(\"전체 등장 빈도에서 희귀 단어 등장 빈도 비율:\", (rare_freq / total_freq)*100)"
   ]
  },
  {
   "cell_type": "code",
   "execution_count": 24,
   "metadata": {},
   "outputs": [
    {
     "name": "stdout",
     "output_type": "stream",
     "text": [
      "단어 집합의 크기 : 360\n"
     ]
    }
   ],
   "source": [
    "# 전체 단어 개수 중 빈도수 1이하인 단어 개수는 제거.\n",
    "# 0번 패딩 토큰과 1번 OOV 토큰을 고려하여 +2\n",
    "vocab_size = total_cnt - rare_cnt + 2\n",
    "print('단어 집합의 크기 :',vocab_size)"
   ]
  },
  {
   "cell_type": "code",
   "execution_count": 25,
   "metadata": {},
   "outputs": [],
   "source": [
    "X_test = tokenizer.texts_to_sequences(X_test)\n",
    "X_train = tokenizer.texts_to_sequences(X_train)"
   ]
  },
  {
   "cell_type": "code",
   "execution_count": 26,
   "metadata": {},
   "outputs": [],
   "source": [
    "y_train = np.array(train_data['labe'])\n",
    "y_test = np.array(test_data['labe']) #별도지정"
   ]
  },
  {
   "cell_type": "code",
   "execution_count": 27,
   "metadata": {},
   "outputs": [],
   "source": [
    "drop_train = [index for index, sentence in enumerate(X_train) if len(sentence) < 1]"
   ]
  },
  {
   "cell_type": "code",
   "execution_count": 28,
   "metadata": {},
   "outputs": [
    {
     "name": "stdout",
     "output_type": "stream",
     "text": [
      "100\n",
      "100\n"
     ]
    }
   ],
   "source": [
    "X_train = np.delete(X_train, drop_train, axis=0)\n",
    "y_train = np.delete(y_train, drop_train, axis=0)\n",
    "print(len(X_train))\n",
    "print(len(y_train))"
   ]
  },
  {
   "cell_type": "code",
   "execution_count": 29,
   "metadata": {},
   "outputs": [
    {
     "name": "stdout",
     "output_type": "stream",
     "text": [
      "리뷰의 최대 길이 : 104\n",
      "리뷰의 평균 길이 : 26.52\n"
     ]
    },
    {
     "data": {
      "image/png": "[encoded data removed]",
      "text/plain": [
       "<Figure size 432x288 with 1 Axes>"
      ]
     },
     "metadata": {
      "needs_background": "light"
     },
     "output_type": "display_data"
    }
   ],
   "source": [
    "print('리뷰의 최대 길이 :',max(len(l) for l in X_train))\n",
    "print('리뷰의 평균 길이 :',sum(map(len, X_train))/len(X_train))\n",
    "plt.hist([len(s) for s in X_train], bins=50)\n",
    "plt.xlabel('length of samples')\n",
    "plt.ylabel('number of samples')\n",
    "plt.show()"
   ]
  },
  {
   "cell_type": "code",
   "execution_count": 30,
   "metadata": {},
   "outputs": [],
   "source": [
    "def below_threshold_len(max_len, nested_list):\n",
    "  cnt = 0\n",
    "  for s in nested_list:\n",
    "    if(len(s) <= max_len):\n",
    "        cnt = cnt + 1\n",
    "  print('전체 샘플 중 길이가 %s 이하인 샘플의 비율: %s'%(max_len, (cnt / len(nested_list))*100))"
   ]
  },
  {
   "cell_type": "code",
   "execution_count": 31,
   "metadata": {},
   "outputs": [
    {
     "name": "stdout",
     "output_type": "stream",
     "text": [
      "전체 샘플 중 길이가 70 이하인 샘플의 비율: 95.0\n"
     ]
    }
   ],
   "source": [
    "max_len = 70\n",
    "below_threshold_len(max_len, X_train)"
   ]
  },
  {
   "cell_type": "code",
   "execution_count": null,
   "metadata": {},
   "outputs": [],
   "source": []
  },
  {
   "cell_type": "code",
   "execution_count": 60,
   "metadata": {},
   "outputs": [],
   "source": [
    "X_train = pad_sequences(X_train, maxlen = max_len)\n",
    "X_test = pad_sequences(X_test, maxlen = max_len)"
   ]
  },
  {
   "cell_type": "code",
   "execution_count": 40,
   "metadata": {},
   "outputs": [],
   "source": [
    "from tensorflow.keras.layers import Embedding, Dense, LSTM\n",
    "from tensorflow.keras.models import Sequential\n",
    "from tensorflow.keras.models import load_model\n",
    "from tensorflow.keras.callbacks import EarlyStopping, ModelCheckpoint"
   ]
  },
  {
   "cell_type": "code",
   "execution_count": 41,
   "metadata": {},
   "outputs": [],
   "source": [
    "model = Sequential()\n",
    "model.add(Embedding(vocab_size, 100))\n",
    "model.add(LSTM(128))\n",
    "model.add(Dense(1, activation='sigmoid'))"
   ]
  },
  {
   "cell_type": "code",
   "execution_count": 68,
   "metadata": {},
   "outputs": [],
   "source": [
    "es = EarlyStopping(monitor='val_loss', mode='min', verbose=1, patience=100000000)\n",
    "mc = ModelCheckpoint('best_model.h5', monitor='val_acc', mode='max', verbose=1, save_best_only=True)"
   ]
  },
  {
   "cell_type": "code",
   "execution_count": 72,
   "metadata": {},
   "outputs": [
    {
     "ename": "ValueError",
     "evalue": "in user code:\n\n    C:\\Users\\sungj\\anaconda3\\lib\\site-packages\\tensorflow\\python\\keras\\engine\\training.py:806 train_function  *\n        return step_function(self, iterator)\n    C:\\Users\\sungj\\anaconda3\\lib\\site-packages\\tensorflow\\python\\keras\\engine\\training.py:796 step_function  **\n        outputs = model.distribute_strategy.run(run_step, args=(data,))\n    C:\\Users\\sungj\\anaconda3\\lib\\site-packages\\tensorflow\\python\\distribute\\distribute_lib.py:1211 run\n        return self._extended.call_for_each_replica(fn, args=args, kwargs=kwargs)\n    C:\\Users\\sungj\\anaconda3\\lib\\site-packages\\tensorflow\\python\\distribute\\distribute_lib.py:2585 call_for_each_replica\n        return self._call_for_each_replica(fn, args, kwargs)\n    C:\\Users\\sungj\\anaconda3\\lib\\site-packages\\tensorflow\\python\\distribute\\distribute_lib.py:2945 _call_for_each_replica\n        return fn(*args, **kwargs)\n    C:\\Users\\sungj\\anaconda3\\lib\\site-packages\\tensorflow\\python\\keras\\engine\\training.py:789 run_step  **\n        outputs = model.train_step(data)\n    C:\\Users\\sungj\\anaconda3\\lib\\site-packages\\tensorflow\\python\\keras\\engine\\training.py:747 train_step\n        y_pred = self(x, training=True)\n    C:\\Users\\sungj\\anaconda3\\lib\\site-packages\\tensorflow\\python\\keras\\engine\\base_layer.py:975 __call__\n        input_spec.assert_input_compatibility(self.input_spec, inputs,\n    C:\\Users\\sungj\\anaconda3\\lib\\site-packages\\tensorflow\\python\\keras\\engine\\input_spec.py:212 assert_input_compatibility\n        raise ValueError(\n\n    ValueError: Input 0 of layer sequential_3 is incompatible with the layer: expected axis -1 of input shape to have value 10000 but received input with shape [10, 70]\n",
     "output_type": "error",
     "traceback": [
      "\u001b[1;31m---------------------------------------------------------------------------\u001b[0m",
      "\u001b[1;31mValueError\u001b[0m                                Traceback (most recent call last)",
      "\u001b[1;32m<ipython-input-72-b1f598175a3e>\u001b[0m in \u001b[0;36m<module>\u001b[1;34m\u001b[0m\n\u001b[0;32m      1\u001b[0m \u001b[0mmodel\u001b[0m\u001b[1;33m.\u001b[0m\u001b[0mcompile\u001b[0m\u001b[1;33m(\u001b[0m\u001b[0moptimizer\u001b[0m\u001b[1;33m=\u001b[0m\u001b[1;34m'rmsprop'\u001b[0m\u001b[1;33m,\u001b[0m \u001b[0mloss\u001b[0m\u001b[1;33m=\u001b[0m\u001b[1;34m'binary_crossentropy'\u001b[0m\u001b[1;33m,\u001b[0m \u001b[0mmetrics\u001b[0m\u001b[1;33m=\u001b[0m\u001b[1;33m[\u001b[0m\u001b[1;34m'acc'\u001b[0m\u001b[1;33m]\u001b[0m\u001b[1;33m)\u001b[0m\u001b[1;33m\u001b[0m\u001b[1;33m\u001b[0m\u001b[0m\n\u001b[1;32m----> 2\u001b[1;33m \u001b[0mhistory\u001b[0m \u001b[1;33m=\u001b[0m \u001b[0mmodel\u001b[0m\u001b[1;33m.\u001b[0m\u001b[0mfit\u001b[0m\u001b[1;33m(\u001b[0m\u001b[0mX_train\u001b[0m\u001b[1;33m,\u001b[0m \u001b[0my_train\u001b[0m\u001b[1;33m,\u001b[0m \u001b[0mepochs\u001b[0m\u001b[1;33m=\u001b[0m\u001b[1;36m1\u001b[0m\u001b[1;33m,\u001b[0m \u001b[0mcallbacks\u001b[0m\u001b[1;33m=\u001b[0m\u001b[1;33m[\u001b[0m\u001b[0mes\u001b[0m\u001b[1;33m,\u001b[0m \u001b[0mmc\u001b[0m\u001b[1;33m]\u001b[0m\u001b[1;33m,\u001b[0m \u001b[0mbatch_size\u001b[0m\u001b[1;33m=\u001b[0m\u001b[1;36m10\u001b[0m\u001b[1;33m,\u001b[0m \u001b[0mvalidation_split\u001b[0m\u001b[1;33m=\u001b[0m\u001b[1;36m0.1\u001b[0m\u001b[1;33m)\u001b[0m\u001b[1;33m\u001b[0m\u001b[1;33m\u001b[0m\u001b[0m\n\u001b[0m",
      "\u001b[1;32m~\\anaconda3\\lib\\site-packages\\tensorflow\\python\\keras\\engine\\training.py\u001b[0m in \u001b[0;36m_method_wrapper\u001b[1;34m(self, *args, **kwargs)\u001b[0m\n\u001b[0;32m    106\u001b[0m   \u001b[1;32mdef\u001b[0m \u001b[0m_method_wrapper\u001b[0m\u001b[1;33m(\u001b[0m\u001b[0mself\u001b[0m\u001b[1;33m,\u001b[0m \u001b[1;33m*\u001b[0m\u001b[0margs\u001b[0m\u001b[1;33m,\u001b[0m \u001b[1;33m**\u001b[0m\u001b[0mkwargs\u001b[0m\u001b[1;33m)\u001b[0m\u001b[1;33m:\u001b[0m\u001b[1;33m\u001b[0m\u001b[1;33m\u001b[0m\u001b[0m\n\u001b[0;32m    107\u001b[0m     \u001b[1;32mif\u001b[0m \u001b[1;32mnot\u001b[0m \u001b[0mself\u001b[0m\u001b[1;33m.\u001b[0m\u001b[0m_in_multi_worker_mode\u001b[0m\u001b[1;33m(\u001b[0m\u001b[1;33m)\u001b[0m\u001b[1;33m:\u001b[0m  \u001b[1;31m# pylint: disable=protected-access\u001b[0m\u001b[1;33m\u001b[0m\u001b[1;33m\u001b[0m\u001b[0m\n\u001b[1;32m--> 108\u001b[1;33m       \u001b[1;32mreturn\u001b[0m \u001b[0mmethod\u001b[0m\u001b[1;33m(\u001b[0m\u001b[0mself\u001b[0m\u001b[1;33m,\u001b[0m \u001b[1;33m*\u001b[0m\u001b[0margs\u001b[0m\u001b[1;33m,\u001b[0m \u001b[1;33m**\u001b[0m\u001b[0mkwargs\u001b[0m\u001b[1;33m)\u001b[0m\u001b[1;33m\u001b[0m\u001b[1;33m\u001b[0m\u001b[0m\n\u001b[0m\u001b[0;32m    109\u001b[0m \u001b[1;33m\u001b[0m\u001b[0m\n\u001b[0;32m    110\u001b[0m     \u001b[1;31m# Running inside `run_distribute_coordinator` already.\u001b[0m\u001b[1;33m\u001b[0m\u001b[1;33m\u001b[0m\u001b[1;33m\u001b[0m\u001b[0m\n",
      "\u001b[1;32m~\\anaconda3\\lib\\site-packages\\tensorflow\\python\\keras\\engine\\training.py\u001b[0m in \u001b[0;36mfit\u001b[1;34m(self, x, y, batch_size, epochs, verbose, callbacks, validation_split, validation_data, shuffle, class_weight, sample_weight, initial_epoch, steps_per_epoch, validation_steps, validation_batch_size, validation_freq, max_queue_size, workers, use_multiprocessing)\u001b[0m\n\u001b[0;32m   1096\u001b[0m                 batch_size=batch_size):\n\u001b[0;32m   1097\u001b[0m               \u001b[0mcallbacks\u001b[0m\u001b[1;33m.\u001b[0m\u001b[0mon_train_batch_begin\u001b[0m\u001b[1;33m(\u001b[0m\u001b[0mstep\u001b[0m\u001b[1;33m)\u001b[0m\u001b[1;33m\u001b[0m\u001b[1;33m\u001b[0m\u001b[0m\n\u001b[1;32m-> 1098\u001b[1;33m               \u001b[0mtmp_logs\u001b[0m \u001b[1;33m=\u001b[0m \u001b[0mtrain_function\u001b[0m\u001b[1;33m(\u001b[0m\u001b[0miterator\u001b[0m\u001b[1;33m)\u001b[0m\u001b[1;33m\u001b[0m\u001b[1;33m\u001b[0m\u001b[0m\n\u001b[0m\u001b[0;32m   1099\u001b[0m               \u001b[1;32mif\u001b[0m \u001b[0mdata_handler\u001b[0m\u001b[1;33m.\u001b[0m\u001b[0mshould_sync\u001b[0m\u001b[1;33m:\u001b[0m\u001b[1;33m\u001b[0m\u001b[1;33m\u001b[0m\u001b[0m\n\u001b[0;32m   1100\u001b[0m                 \u001b[0mcontext\u001b[0m\u001b[1;33m.\u001b[0m\u001b[0masync_wait\u001b[0m\u001b[1;33m(\u001b[0m\u001b[1;33m)\u001b[0m\u001b[1;33m\u001b[0m\u001b[1;33m\u001b[0m\u001b[0m\n",
      "\u001b[1;32m~\\anaconda3\\lib\\site-packages\\tensorflow\\python\\eager\\def_function.py\u001b[0m in \u001b[0;36m__call__\u001b[1;34m(self, *args, **kwds)\u001b[0m\n\u001b[0;32m    778\u001b[0m       \u001b[1;32melse\u001b[0m\u001b[1;33m:\u001b[0m\u001b[1;33m\u001b[0m\u001b[1;33m\u001b[0m\u001b[0m\n\u001b[0;32m    779\u001b[0m         \u001b[0mcompiler\u001b[0m \u001b[1;33m=\u001b[0m \u001b[1;34m\"nonXla\"\u001b[0m\u001b[1;33m\u001b[0m\u001b[1;33m\u001b[0m\u001b[0m\n\u001b[1;32m--> 780\u001b[1;33m         \u001b[0mresult\u001b[0m \u001b[1;33m=\u001b[0m \u001b[0mself\u001b[0m\u001b[1;33m.\u001b[0m\u001b[0m_call\u001b[0m\u001b[1;33m(\u001b[0m\u001b[1;33m*\u001b[0m\u001b[0margs\u001b[0m\u001b[1;33m,\u001b[0m \u001b[1;33m**\u001b[0m\u001b[0mkwds\u001b[0m\u001b[1;33m)\u001b[0m\u001b[1;33m\u001b[0m\u001b[1;33m\u001b[0m\u001b[0m\n\u001b[0m\u001b[0;32m    781\u001b[0m \u001b[1;33m\u001b[0m\u001b[0m\n\u001b[0;32m    782\u001b[0m       \u001b[0mnew_tracing_count\u001b[0m \u001b[1;33m=\u001b[0m \u001b[0mself\u001b[0m\u001b[1;33m.\u001b[0m\u001b[0m_get_tracing_count\u001b[0m\u001b[1;33m(\u001b[0m\u001b[1;33m)\u001b[0m\u001b[1;33m\u001b[0m\u001b[1;33m\u001b[0m\u001b[0m\n",
      "\u001b[1;32m~\\anaconda3\\lib\\site-packages\\tensorflow\\python\\eager\\def_function.py\u001b[0m in \u001b[0;36m_call\u001b[1;34m(self, *args, **kwds)\u001b[0m\n\u001b[0;32m    821\u001b[0m       \u001b[1;31m# This is the first call of __call__, so we have to initialize.\u001b[0m\u001b[1;33m\u001b[0m\u001b[1;33m\u001b[0m\u001b[1;33m\u001b[0m\u001b[0m\n\u001b[0;32m    822\u001b[0m       \u001b[0minitializers\u001b[0m \u001b[1;33m=\u001b[0m \u001b[1;33m[\u001b[0m\u001b[1;33m]\u001b[0m\u001b[1;33m\u001b[0m\u001b[1;33m\u001b[0m\u001b[0m\n\u001b[1;32m--> 823\u001b[1;33m       \u001b[0mself\u001b[0m\u001b[1;33m.\u001b[0m\u001b[0m_initialize\u001b[0m\u001b[1;33m(\u001b[0m\u001b[0margs\u001b[0m\u001b[1;33m,\u001b[0m \u001b[0mkwds\u001b[0m\u001b[1;33m,\u001b[0m \u001b[0madd_initializers_to\u001b[0m\u001b[1;33m=\u001b[0m\u001b[0minitializers\u001b[0m\u001b[1;33m)\u001b[0m\u001b[1;33m\u001b[0m\u001b[1;33m\u001b[0m\u001b[0m\n\u001b[0m\u001b[0;32m    824\u001b[0m     \u001b[1;32mfinally\u001b[0m\u001b[1;33m:\u001b[0m\u001b[1;33m\u001b[0m\u001b[1;33m\u001b[0m\u001b[0m\n\u001b[0;32m    825\u001b[0m       \u001b[1;31m# At this point we know that the initialization is complete (or less\u001b[0m\u001b[1;33m\u001b[0m\u001b[1;33m\u001b[0m\u001b[1;33m\u001b[0m\u001b[0m\n",
      "\u001b[1;32m~\\anaconda3\\lib\\site-packages\\tensorflow\\python\\eager\\def_function.py\u001b[0m in \u001b[0;36m_initialize\u001b[1;34m(self, args, kwds, add_initializers_to)\u001b[0m\n\u001b[0;32m    694\u001b[0m     \u001b[0mself\u001b[0m\u001b[1;33m.\u001b[0m\u001b[0m_graph_deleter\u001b[0m \u001b[1;33m=\u001b[0m \u001b[0mFunctionDeleter\u001b[0m\u001b[1;33m(\u001b[0m\u001b[0mself\u001b[0m\u001b[1;33m.\u001b[0m\u001b[0m_lifted_initializer_graph\u001b[0m\u001b[1;33m)\u001b[0m\u001b[1;33m\u001b[0m\u001b[1;33m\u001b[0m\u001b[0m\n\u001b[0;32m    695\u001b[0m     self._concrete_stateful_fn = (\n\u001b[1;32m--> 696\u001b[1;33m         self._stateful_fn._get_concrete_function_internal_garbage_collected(  # pylint: disable=protected-access\n\u001b[0m\u001b[0;32m    697\u001b[0m             *args, **kwds))\n\u001b[0;32m    698\u001b[0m \u001b[1;33m\u001b[0m\u001b[0m\n",
      "\u001b[1;32m~\\anaconda3\\lib\\site-packages\\tensorflow\\python\\eager\\function.py\u001b[0m in \u001b[0;36m_get_concrete_function_internal_garbage_collected\u001b[1;34m(self, *args, **kwargs)\u001b[0m\n\u001b[0;32m   2853\u001b[0m       \u001b[0margs\u001b[0m\u001b[1;33m,\u001b[0m \u001b[0mkwargs\u001b[0m \u001b[1;33m=\u001b[0m \u001b[1;32mNone\u001b[0m\u001b[1;33m,\u001b[0m \u001b[1;32mNone\u001b[0m\u001b[1;33m\u001b[0m\u001b[1;33m\u001b[0m\u001b[0m\n\u001b[0;32m   2854\u001b[0m     \u001b[1;32mwith\u001b[0m \u001b[0mself\u001b[0m\u001b[1;33m.\u001b[0m\u001b[0m_lock\u001b[0m\u001b[1;33m:\u001b[0m\u001b[1;33m\u001b[0m\u001b[1;33m\u001b[0m\u001b[0m\n\u001b[1;32m-> 2855\u001b[1;33m       \u001b[0mgraph_function\u001b[0m\u001b[1;33m,\u001b[0m \u001b[0m_\u001b[0m\u001b[1;33m,\u001b[0m \u001b[0m_\u001b[0m \u001b[1;33m=\u001b[0m \u001b[0mself\u001b[0m\u001b[1;33m.\u001b[0m\u001b[0m_maybe_define_function\u001b[0m\u001b[1;33m(\u001b[0m\u001b[0margs\u001b[0m\u001b[1;33m,\u001b[0m \u001b[0mkwargs\u001b[0m\u001b[1;33m)\u001b[0m\u001b[1;33m\u001b[0m\u001b[1;33m\u001b[0m\u001b[0m\n\u001b[0m\u001b[0;32m   2856\u001b[0m     \u001b[1;32mreturn\u001b[0m \u001b[0mgraph_function\u001b[0m\u001b[1;33m\u001b[0m\u001b[1;33m\u001b[0m\u001b[0m\n\u001b[0;32m   2857\u001b[0m \u001b[1;33m\u001b[0m\u001b[0m\n",
      "\u001b[1;32m~\\anaconda3\\lib\\site-packages\\tensorflow\\python\\eager\\function.py\u001b[0m in \u001b[0;36m_maybe_define_function\u001b[1;34m(self, args, kwargs)\u001b[0m\n\u001b[0;32m   3211\u001b[0m \u001b[1;33m\u001b[0m\u001b[0m\n\u001b[0;32m   3212\u001b[0m       \u001b[0mself\u001b[0m\u001b[1;33m.\u001b[0m\u001b[0m_function_cache\u001b[0m\u001b[1;33m.\u001b[0m\u001b[0mmissed\u001b[0m\u001b[1;33m.\u001b[0m\u001b[0madd\u001b[0m\u001b[1;33m(\u001b[0m\u001b[0mcall_context_key\u001b[0m\u001b[1;33m)\u001b[0m\u001b[1;33m\u001b[0m\u001b[1;33m\u001b[0m\u001b[0m\n\u001b[1;32m-> 3213\u001b[1;33m       \u001b[0mgraph_function\u001b[0m \u001b[1;33m=\u001b[0m \u001b[0mself\u001b[0m\u001b[1;33m.\u001b[0m\u001b[0m_create_graph_function\u001b[0m\u001b[1;33m(\u001b[0m\u001b[0margs\u001b[0m\u001b[1;33m,\u001b[0m \u001b[0mkwargs\u001b[0m\u001b[1;33m)\u001b[0m\u001b[1;33m\u001b[0m\u001b[1;33m\u001b[0m\u001b[0m\n\u001b[0m\u001b[0;32m   3214\u001b[0m       \u001b[0mself\u001b[0m\u001b[1;33m.\u001b[0m\u001b[0m_function_cache\u001b[0m\u001b[1;33m.\u001b[0m\u001b[0mprimary\u001b[0m\u001b[1;33m[\u001b[0m\u001b[0mcache_key\u001b[0m\u001b[1;33m]\u001b[0m \u001b[1;33m=\u001b[0m \u001b[0mgraph_function\u001b[0m\u001b[1;33m\u001b[0m\u001b[1;33m\u001b[0m\u001b[0m\n\u001b[0;32m   3215\u001b[0m       \u001b[1;32mreturn\u001b[0m \u001b[0mgraph_function\u001b[0m\u001b[1;33m,\u001b[0m \u001b[0margs\u001b[0m\u001b[1;33m,\u001b[0m \u001b[0mkwargs\u001b[0m\u001b[1;33m\u001b[0m\u001b[1;33m\u001b[0m\u001b[0m\n",
      "\u001b[1;32m~\\anaconda3\\lib\\site-packages\\tensorflow\\python\\eager\\function.py\u001b[0m in \u001b[0;36m_create_graph_function\u001b[1;34m(self, args, kwargs, override_flat_arg_shapes)\u001b[0m\n\u001b[0;32m   3063\u001b[0m     \u001b[0marg_names\u001b[0m \u001b[1;33m=\u001b[0m \u001b[0mbase_arg_names\u001b[0m \u001b[1;33m+\u001b[0m \u001b[0mmissing_arg_names\u001b[0m\u001b[1;33m\u001b[0m\u001b[1;33m\u001b[0m\u001b[0m\n\u001b[0;32m   3064\u001b[0m     graph_function = ConcreteFunction(\n\u001b[1;32m-> 3065\u001b[1;33m         func_graph_module.func_graph_from_py_func(\n\u001b[0m\u001b[0;32m   3066\u001b[0m             \u001b[0mself\u001b[0m\u001b[1;33m.\u001b[0m\u001b[0m_name\u001b[0m\u001b[1;33m,\u001b[0m\u001b[1;33m\u001b[0m\u001b[1;33m\u001b[0m\u001b[0m\n\u001b[0;32m   3067\u001b[0m             \u001b[0mself\u001b[0m\u001b[1;33m.\u001b[0m\u001b[0m_python_function\u001b[0m\u001b[1;33m,\u001b[0m\u001b[1;33m\u001b[0m\u001b[1;33m\u001b[0m\u001b[0m\n",
      "\u001b[1;32m~\\anaconda3\\lib\\site-packages\\tensorflow\\python\\framework\\func_graph.py\u001b[0m in \u001b[0;36mfunc_graph_from_py_func\u001b[1;34m(name, python_func, args, kwargs, signature, func_graph, autograph, autograph_options, add_control_dependencies, arg_names, op_return_value, collections, capture_by_value, override_flat_arg_shapes)\u001b[0m\n\u001b[0;32m    984\u001b[0m         \u001b[0m_\u001b[0m\u001b[1;33m,\u001b[0m \u001b[0moriginal_func\u001b[0m \u001b[1;33m=\u001b[0m \u001b[0mtf_decorator\u001b[0m\u001b[1;33m.\u001b[0m\u001b[0munwrap\u001b[0m\u001b[1;33m(\u001b[0m\u001b[0mpython_func\u001b[0m\u001b[1;33m)\u001b[0m\u001b[1;33m\u001b[0m\u001b[1;33m\u001b[0m\u001b[0m\n\u001b[0;32m    985\u001b[0m \u001b[1;33m\u001b[0m\u001b[0m\n\u001b[1;32m--> 986\u001b[1;33m       \u001b[0mfunc_outputs\u001b[0m \u001b[1;33m=\u001b[0m \u001b[0mpython_func\u001b[0m\u001b[1;33m(\u001b[0m\u001b[1;33m*\u001b[0m\u001b[0mfunc_args\u001b[0m\u001b[1;33m,\u001b[0m \u001b[1;33m**\u001b[0m\u001b[0mfunc_kwargs\u001b[0m\u001b[1;33m)\u001b[0m\u001b[1;33m\u001b[0m\u001b[1;33m\u001b[0m\u001b[0m\n\u001b[0m\u001b[0;32m    987\u001b[0m \u001b[1;33m\u001b[0m\u001b[0m\n\u001b[0;32m    988\u001b[0m       \u001b[1;31m# invariant: `func_outputs` contains only Tensors, CompositeTensors,\u001b[0m\u001b[1;33m\u001b[0m\u001b[1;33m\u001b[0m\u001b[1;33m\u001b[0m\u001b[0m\n",
      "\u001b[1;32m~\\anaconda3\\lib\\site-packages\\tensorflow\\python\\eager\\def_function.py\u001b[0m in \u001b[0;36mwrapped_fn\u001b[1;34m(*args, **kwds)\u001b[0m\n\u001b[0;32m    598\u001b[0m         \u001b[1;31m# __wrapped__ allows AutoGraph to swap in a converted function. We give\u001b[0m\u001b[1;33m\u001b[0m\u001b[1;33m\u001b[0m\u001b[1;33m\u001b[0m\u001b[0m\n\u001b[0;32m    599\u001b[0m         \u001b[1;31m# the function a weak reference to itself to avoid a reference cycle.\u001b[0m\u001b[1;33m\u001b[0m\u001b[1;33m\u001b[0m\u001b[1;33m\u001b[0m\u001b[0m\n\u001b[1;32m--> 600\u001b[1;33m         \u001b[1;32mreturn\u001b[0m \u001b[0mweak_wrapped_fn\u001b[0m\u001b[1;33m(\u001b[0m\u001b[1;33m)\u001b[0m\u001b[1;33m.\u001b[0m\u001b[0m__wrapped__\u001b[0m\u001b[1;33m(\u001b[0m\u001b[1;33m*\u001b[0m\u001b[0margs\u001b[0m\u001b[1;33m,\u001b[0m \u001b[1;33m**\u001b[0m\u001b[0mkwds\u001b[0m\u001b[1;33m)\u001b[0m\u001b[1;33m\u001b[0m\u001b[1;33m\u001b[0m\u001b[0m\n\u001b[0m\u001b[0;32m    601\u001b[0m     \u001b[0mweak_wrapped_fn\u001b[0m \u001b[1;33m=\u001b[0m \u001b[0mweakref\u001b[0m\u001b[1;33m.\u001b[0m\u001b[0mref\u001b[0m\u001b[1;33m(\u001b[0m\u001b[0mwrapped_fn\u001b[0m\u001b[1;33m)\u001b[0m\u001b[1;33m\u001b[0m\u001b[1;33m\u001b[0m\u001b[0m\n\u001b[0;32m    602\u001b[0m \u001b[1;33m\u001b[0m\u001b[0m\n",
      "\u001b[1;32m~\\anaconda3\\lib\\site-packages\\tensorflow\\python\\framework\\func_graph.py\u001b[0m in \u001b[0;36mwrapper\u001b[1;34m(*args, **kwargs)\u001b[0m\n\u001b[0;32m    971\u001b[0m           \u001b[1;32mexcept\u001b[0m \u001b[0mException\u001b[0m \u001b[1;32mas\u001b[0m \u001b[0me\u001b[0m\u001b[1;33m:\u001b[0m  \u001b[1;31m# pylint:disable=broad-except\u001b[0m\u001b[1;33m\u001b[0m\u001b[1;33m\u001b[0m\u001b[0m\n\u001b[0;32m    972\u001b[0m             \u001b[1;32mif\u001b[0m \u001b[0mhasattr\u001b[0m\u001b[1;33m(\u001b[0m\u001b[0me\u001b[0m\u001b[1;33m,\u001b[0m \u001b[1;34m\"ag_error_metadata\"\u001b[0m\u001b[1;33m)\u001b[0m\u001b[1;33m:\u001b[0m\u001b[1;33m\u001b[0m\u001b[1;33m\u001b[0m\u001b[0m\n\u001b[1;32m--> 973\u001b[1;33m               \u001b[1;32mraise\u001b[0m \u001b[0me\u001b[0m\u001b[1;33m.\u001b[0m\u001b[0mag_error_metadata\u001b[0m\u001b[1;33m.\u001b[0m\u001b[0mto_exception\u001b[0m\u001b[1;33m(\u001b[0m\u001b[0me\u001b[0m\u001b[1;33m)\u001b[0m\u001b[1;33m\u001b[0m\u001b[1;33m\u001b[0m\u001b[0m\n\u001b[0m\u001b[0;32m    974\u001b[0m             \u001b[1;32melse\u001b[0m\u001b[1;33m:\u001b[0m\u001b[1;33m\u001b[0m\u001b[1;33m\u001b[0m\u001b[0m\n\u001b[0;32m    975\u001b[0m               \u001b[1;32mraise\u001b[0m\u001b[1;33m\u001b[0m\u001b[1;33m\u001b[0m\u001b[0m\n",
      "\u001b[1;31mValueError\u001b[0m: in user code:\n\n    C:\\Users\\sungj\\anaconda3\\lib\\site-packages\\tensorflow\\python\\keras\\engine\\training.py:806 train_function  *\n        return step_function(self, iterator)\n    C:\\Users\\sungj\\anaconda3\\lib\\site-packages\\tensorflow\\python\\keras\\engine\\training.py:796 step_function  **\n        outputs = model.distribute_strategy.run(run_step, args=(data,))\n    C:\\Users\\sungj\\anaconda3\\lib\\site-packages\\tensorflow\\python\\distribute\\distribute_lib.py:1211 run\n        return self._extended.call_for_each_replica(fn, args=args, kwargs=kwargs)\n    C:\\Users\\sungj\\anaconda3\\lib\\site-packages\\tensorflow\\python\\distribute\\distribute_lib.py:2585 call_for_each_replica\n        return self._call_for_each_replica(fn, args, kwargs)\n    C:\\Users\\sungj\\anaconda3\\lib\\site-packages\\tensorflow\\python\\distribute\\distribute_lib.py:2945 _call_for_each_replica\n        return fn(*args, **kwargs)\n    C:\\Users\\sungj\\anaconda3\\lib\\site-packages\\tensorflow\\python\\keras\\engine\\training.py:789 run_step  **\n        outputs = model.train_step(data)\n    C:\\Users\\sungj\\anaconda3\\lib\\site-packages\\tensorflow\\python\\keras\\engine\\training.py:747 train_step\n        y_pred = self(x, training=True)\n    C:\\Users\\sungj\\anaconda3\\lib\\site-packages\\tensorflow\\python\\keras\\engine\\base_layer.py:975 __call__\n        input_spec.assert_input_compatibility(self.input_spec, inputs,\n    C:\\Users\\sungj\\anaconda3\\lib\\site-packages\\tensorflow\\python\\keras\\engine\\input_spec.py:212 assert_input_compatibility\n        raise ValueError(\n\n    ValueError: Input 0 of layer sequential_3 is incompatible with the layer: expected axis -1 of input shape to have value 10000 but received input with shape [10, 70]\n"
     ]
    }
   ],
   "source": [
    "model.compile(optimizer='rmsprop', loss='binary_crossentropy', metrics=['acc'])\n",
    "history = model.fit(X_train, y_train, epochs=1, callbacks=[es, mc], batch_size=10, validation_split=0.1)"
   ]
  },
  {
   "cell_type": "code",
   "execution_count": null,
   "metadata": {},
   "outputs": [],
   "source": []
  }
 ],
 "metadata": {
  "kernelspec": {
   "display_name": "Python 3",
   "language": "python",
   "name": "python3"
  },
  "language_info": {
   "codemirror_mode": {
    "name": "ipython",
    "version": 3
   },
   "file_extension": ".py",
   "mimetype": "text/x-python",
   "name": "python",
   "nbconvert_exporter": "python",
   "pygments_lexer": "ipython3",
   "version": "3.8.3"
  }
 },
 "nbformat": 4,
 "nbformat_minor": 4
}
