{
 "cells": [
  {
   "cell_type": "code",
   "execution_count": 1,
   "metadata": {},
   "outputs": [],
   "source": [
    "import pandas as pd\n",
    "import urllib.request"
   ]
  },
  {
   "cell_type": "code",
   "execution_count": 2,
   "metadata": {},
   "outputs": [],
   "source": [
    "snack= pd.read_csv(\"C:/Users/sungj/jspyth/11월15일감성분석.txt\",encoding='UTF-8')\n",
    "\n"
   ]
  },
  {
   "cell_type": "code",
   "execution_count": 3,
   "metadata": {},
   "outputs": [],
   "source": [
    "snack=snack[['information']]\n"
   ]
  },
  {
   "cell_type": "code",
   "execution_count": 4,
   "metadata": {},
   "outputs": [],
   "source": [
    "snack=snack.drop_duplicates()"
   ]
  },
  {
   "cell_type": "code",
   "execution_count": 5,
   "metadata": {},
   "outputs": [],
   "source": [
    "snack.txt=str(snack)"
   ]
  },
  {
   "cell_type": "code",
   "execution_count": 6,
   "metadata": {},
   "outputs": [
    {
     "name": "stderr",
     "output_type": "stream",
     "text": [
      "<ipython-input-6-27807898c16f>:1: UserWarning: Pandas doesn't allow columns to be created via a new attribute name - see https://pandas.pydata.org/pandas-docs/stable/indexing.html#attribute-access\n",
      "  snack.txt2=snack['information'].str.replace(pat='\\n',repl='_',regex=False)\n"
     ]
    }
   ],
   "source": [
    "snack.txt2=snack['information'].str.replace(pat='\\n',repl='_',regex=False)\n",
    "snack.txt2=snack['information'].str.replace(pat='[]',repl=' ',regex=False)\n",
    "snack.txt2=snack['information'].str.replace(pat='\\n',repl=' ',regex=False)\n"
   ]
  },
  {
   "cell_type": "code",
   "execution_count": 7,
   "metadata": {},
   "outputs": [],
   "source": [
    "snack=pd.DataFrame(snack.txt2)"
   ]
  },
  {
   "cell_type": "code",
   "execution_count": 8,
   "metadata": {},
   "outputs": [],
   "source": [
    "snack=snack.drop(snack.index[0])"
   ]
  },
  {
   "cell_type": "code",
   "execution_count": 9,
   "metadata": {},
   "outputs": [],
   "source": [
    "snack=snack.drop(snack.index[0])"
   ]
  },
  {
   "cell_type": "code",
   "execution_count": 15,
   "metadata": {},
   "outputs": [],
   "source": [
    "snack.to_csv(\"snack_1.csv\")"
   ]
  },
  {
   "cell_type": "code",
   "execution_count": 20,
   "metadata": {},
   "outputs": [
    {
     "data": {
      "text/html": [
       "<div>\n",
       "<style scoped>\n",
       "    .dataframe tbody tr th:only-of-type {\n",
       "        vertical-align: middle;\n",
       "    }\n",
       "\n",
       "    .dataframe tbody tr th {\n",
       "        vertical-align: top;\n",
       "    }\n",
       "\n",
       "    .dataframe thead th {\n",
       "        text-align: right;\n",
       "    }\n",
       "</style>\n",
       "<table border=\"1\" class=\"dataframe\">\n",
       "  <thead>\n",
       "    <tr style=\"text-align: right;\">\n",
       "      <th></th>\n",
       "      <th>title</th>\n",
       "    </tr>\n",
       "  </thead>\n",
       "  <tbody>\n",
       "    <tr>\n",
       "      <th>2</th>\n",
       "      <td>아들이 쵸코과자가 급 땡긴다고 해서 주문했구요.  오늘 배송 받았어요.  세봉지가 ...</td>\n",
       "    </tr>\n",
       "    <tr>\n",
       "      <th>3</th>\n",
       "      <td>‼️브라우니브리틀 초코칩만 벌써 몇개째 구매인지,,쿠키,머핀,초콜릿 안가리고 모두 ...</td>\n",
       "    </tr>\n",
       "    <tr>\n",
       "      <th>4</th>\n",
       "      <td>요즘 초코과자만 몇개째 구매인지,,쿠키,머핀,초콜릿 안가리고 모두 구매중ㅋㅋㅋㅋ브라...</td>\n",
       "    </tr>\n",
       "    <tr>\n",
       "      <th>5</th>\n",
       "      <td>맛..이 있는건가 없는건가..^^;; 이정도 과자는 국산이면 안사먹었을것 같은데 걍...</td>\n",
       "    </tr>\n",
       "    <tr>\n",
       "      <th>6</th>\n",
       "      <td>의식의 흐름 상품평 주의 . 세네개당 칼로리 얼마안되다뇨. 딱 세개만 먹어야지 하면...</td>\n",
       "    </tr>\n",
       "    <tr>\n",
       "      <th>...</th>\n",
       "      <td>...</td>\n",
       "    </tr>\n",
       "    <tr>\n",
       "      <th>97</th>\n",
       "      <td>바삭바삭 하고 달콤합니다 아메리카노와 잘 어울리네요~</td>\n",
       "    </tr>\n",
       "    <tr>\n",
       "      <th>98</th>\n",
       "      <td>이건 우유랑 같이 먹으면 정말 맛있어요 너무너무 맛있음 ㅠㅠ</td>\n",
       "    </tr>\n",
       "    <tr>\n",
       "      <th>99</th>\n",
       "      <td>맛있어요.. 바삭바삭 멈출수가없네요..우유랑 잘어울려요</td>\n",
       "    </tr>\n",
       "    <tr>\n",
       "      <th>100</th>\n",
       "      <td>바삭한 쿠키를 생각하고 샀는데 엄청 얇고 그냥 딱딱해요</td>\n",
       "    </tr>\n",
       "    <tr>\n",
       "      <th>101</th>\n",
       "      <td>최대스낵이에요. 바삭바삭하고 초코 많이 박혀있어요</td>\n",
       "    </tr>\n",
       "  </tbody>\n",
       "</table>\n",
       "<p>100 rows × 1 columns</p>\n",
       "</div>"
      ],
      "text/plain": [
       "                                                 title\n",
       "2    아들이 쵸코과자가 급 땡긴다고 해서 주문했구요.  오늘 배송 받았어요.  세봉지가 ...\n",
       "3    ‼️브라우니브리틀 초코칩만 벌써 몇개째 구매인지,,쿠키,머핀,초콜릿 안가리고 모두 ...\n",
       "4    요즘 초코과자만 몇개째 구매인지,,쿠키,머핀,초콜릿 안가리고 모두 구매중ㅋㅋㅋㅋ브라...\n",
       "5    맛..이 있는건가 없는건가..^^;; 이정도 과자는 국산이면 안사먹었을것 같은데 걍...\n",
       "6    의식의 흐름 상품평 주의 . 세네개당 칼로리 얼마안되다뇨. 딱 세개만 먹어야지 하면...\n",
       "..                                                 ...\n",
       "97                       바삭바삭 하고 달콤합니다 아메리카노와 잘 어울리네요~\n",
       "98                   이건 우유랑 같이 먹으면 정말 맛있어요 너무너무 맛있음 ㅠㅠ\n",
       "99                      맛있어요.. 바삭바삭 멈출수가없네요..우유랑 잘어울려요\n",
       "100                     바삭한 쿠키를 생각하고 샀는데 엄청 얇고 그냥 딱딱해요\n",
       "101                        최대스낵이에요. 바삭바삭하고 초코 많이 박혀있어요\n",
       "\n",
       "[100 rows x 1 columns]"
      ]
     },
     "execution_count": 20,
     "metadata": {},
     "output_type": "execute_result"
    }
   ],
   "source": [
    "snack.columns=['title']\n",
    "snack"
   ]
  },
  {
   "cell_type": "code",
   "execution_count": 17,
   "metadata": {},
   "outputs": [],
   "source": [
    "import codecs"
   ]
  },
  {
   "cell_type": "code",
   "execution_count": 18,
   "metadata": {},
   "outputs": [],
   "source": [
    "positive =[]\n",
    "negative= []\n",
    "posneg = []"
   ]
  },
  {
   "cell_type": "code",
   "execution_count": 21,
   "metadata": {},
   "outputs": [],
   "source": [
    "pos = codecs.open(\"./positive.txt\",'rb',encoding='UTF-8')\n",
    "while True:\n",
    "    line=pos.readline()\n",
    "    line=line.replace('\\n','')\n",
    "    positive.append(line)\n",
    "    posneg.append(line)\n",
    "    \n",
    "    if not line: break\n",
    "pos.close()\n",
    "    "
   ]
  },
  {
   "cell_type": "code",
   "execution_count": 22,
   "metadata": {},
   "outputs": [],
   "source": [
    "neg = codecs.open(\"./negative.txt\",'rb',encoding='UTF-8')\n",
    "while True:\n",
    "    line=neg.readline()\n",
    "    line=line.replace('\\n','')\n",
    "    negative.append(line)\n",
    "    posneg.append(line)\n",
    "    \n",
    "    if not line: break\n",
    "pos.close()"
   ]
  },
  {
   "cell_type": "code",
   "execution_count": 23,
   "metadata": {},
   "outputs": [],
   "source": [
    "import re\n",
    "import pandas as pd"
   ]
  },
  {
   "cell_type": "code",
   "execution_count": 24,
   "metadata": {},
   "outputs": [],
   "source": [
    "my_title_dic = snack"
   ]
  },
  {
   "cell_type": "code",
   "execution_count": 25,
   "metadata": {},
   "outputs": [
    {
     "data": {
      "text/html": [
       "<div>\n",
       "<style scoped>\n",
       "    .dataframe tbody tr th:only-of-type {\n",
       "        vertical-align: middle;\n",
       "    }\n",
       "\n",
       "    .dataframe tbody tr th {\n",
       "        vertical-align: top;\n",
       "    }\n",
       "\n",
       "    .dataframe thead th {\n",
       "        text-align: right;\n",
       "    }\n",
       "</style>\n",
       "<table border=\"1\" class=\"dataframe\">\n",
       "  <thead>\n",
       "    <tr style=\"text-align: right;\">\n",
       "      <th></th>\n",
       "      <th>title</th>\n",
       "    </tr>\n",
       "  </thead>\n",
       "  <tbody>\n",
       "    <tr>\n",
       "      <th>2</th>\n",
       "      <td>아들이 쵸코과자가 급 땡긴다고 해서 주문했구요.  오늘 배송 받았어요.  세봉지가 ...</td>\n",
       "    </tr>\n",
       "    <tr>\n",
       "      <th>3</th>\n",
       "      <td>‼️브라우니브리틀 초코칩만 벌써 몇개째 구매인지,,쿠키,머핀,초콜릿 안가리고 모두 ...</td>\n",
       "    </tr>\n",
       "    <tr>\n",
       "      <th>4</th>\n",
       "      <td>요즘 초코과자만 몇개째 구매인지,,쿠키,머핀,초콜릿 안가리고 모두 구매중ㅋㅋㅋㅋ브라...</td>\n",
       "    </tr>\n",
       "    <tr>\n",
       "      <th>5</th>\n",
       "      <td>맛..이 있는건가 없는건가..^^;; 이정도 과자는 국산이면 안사먹었을것 같은데 걍...</td>\n",
       "    </tr>\n",
       "    <tr>\n",
       "      <th>6</th>\n",
       "      <td>의식의 흐름 상품평 주의 . 세네개당 칼로리 얼마안되다뇨. 딱 세개만 먹어야지 하면...</td>\n",
       "    </tr>\n",
       "    <tr>\n",
       "      <th>...</th>\n",
       "      <td>...</td>\n",
       "    </tr>\n",
       "    <tr>\n",
       "      <th>97</th>\n",
       "      <td>바삭바삭 하고 달콤합니다 아메리카노와 잘 어울리네요~</td>\n",
       "    </tr>\n",
       "    <tr>\n",
       "      <th>98</th>\n",
       "      <td>이건 우유랑 같이 먹으면 정말 맛있어요 너무너무 맛있음 ㅠㅠ</td>\n",
       "    </tr>\n",
       "    <tr>\n",
       "      <th>99</th>\n",
       "      <td>맛있어요.. 바삭바삭 멈출수가없네요..우유랑 잘어울려요</td>\n",
       "    </tr>\n",
       "    <tr>\n",
       "      <th>100</th>\n",
       "      <td>바삭한 쿠키를 생각하고 샀는데 엄청 얇고 그냥 딱딱해요</td>\n",
       "    </tr>\n",
       "    <tr>\n",
       "      <th>101</th>\n",
       "      <td>최대스낵이에요. 바삭바삭하고 초코 많이 박혀있어요</td>\n",
       "    </tr>\n",
       "  </tbody>\n",
       "</table>\n",
       "<p>100 rows × 1 columns</p>\n",
       "</div>"
      ],
      "text/plain": [
       "                                                 title\n",
       "2    아들이 쵸코과자가 급 땡긴다고 해서 주문했구요.  오늘 배송 받았어요.  세봉지가 ...\n",
       "3    ‼️브라우니브리틀 초코칩만 벌써 몇개째 구매인지,,쿠키,머핀,초콜릿 안가리고 모두 ...\n",
       "4    요즘 초코과자만 몇개째 구매인지,,쿠키,머핀,초콜릿 안가리고 모두 구매중ㅋㅋㅋㅋ브라...\n",
       "5    맛..이 있는건가 없는건가..^^;; 이정도 과자는 국산이면 안사먹었을것 같은데 걍...\n",
       "6    의식의 흐름 상품평 주의 . 세네개당 칼로리 얼마안되다뇨. 딱 세개만 먹어야지 하면...\n",
       "..                                                 ...\n",
       "97                       바삭바삭 하고 달콤합니다 아메리카노와 잘 어울리네요~\n",
       "98                   이건 우유랑 같이 먹으면 정말 맛있어요 너무너무 맛있음 ㅠㅠ\n",
       "99                      맛있어요.. 바삭바삭 멈출수가없네요..우유랑 잘어울려요\n",
       "100                     바삭한 쿠키를 생각하고 샀는데 엄청 얇고 그냥 딱딱해요\n",
       "101                        최대스낵이에요. 바삭바삭하고 초코 많이 박혀있어요\n",
       "\n",
       "[100 rows x 1 columns]"
      ]
     },
     "execution_count": 25,
     "metadata": {},
     "output_type": "execute_result"
    }
   ],
   "source": [
    "titles =pd.DataFrame(my_title_dic['title'])\n",
    "titles"
   ]
  },
  {
   "cell_type": "code",
   "execution_count": 26,
   "metadata": {},
   "outputs": [],
   "source": [
    "import requests\n",
    "from bs4 import BeautifulSoup\n",
    "import re\n",
    "import pandas as pd"
   ]
  },
  {
   "cell_type": "code",
   "execution_count": 28,
   "metadata": {},
   "outputs": [
    {
     "ename": "TypeError",
     "evalue": "'DataFrame' object cannot be interpreted as an integer",
     "output_type": "error",
     "traceback": [
      "\u001b[1;31m---------------------------------------------------------------------------\u001b[0m",
      "\u001b[1;31mTypeError\u001b[0m                                 Traceback (most recent call last)",
      "\u001b[1;32m<ipython-input-28-b99306afa5b4>\u001b[0m in \u001b[0;36m<module>\u001b[1;34m\u001b[0m\n\u001b[0;32m      1\u001b[0m \u001b[0mlabel\u001b[0m \u001b[1;33m=\u001b[0m \u001b[1;33m[\u001b[0m\u001b[1;33m]\u001b[0m\u001b[1;33m\u001b[0m\u001b[1;33m\u001b[0m\u001b[0m\n\u001b[1;32m----> 2\u001b[1;33m \u001b[1;32mfor\u001b[0m \u001b[0mi\u001b[0m \u001b[1;32min\u001b[0m \u001b[0mrange\u001b[0m\u001b[1;33m(\u001b[0m\u001b[0mtitles\u001b[0m\u001b[1;33m)\u001b[0m\u001b[1;33m:\u001b[0m\u001b[1;33m\u001b[0m\u001b[1;33m\u001b[0m\u001b[0m\n\u001b[0m\u001b[0;32m      3\u001b[0m     \u001b[0mclean_title\u001b[0m\u001b[1;33m=\u001b[0m\u001b[0mre\u001b[0m\u001b[1;33m.\u001b[0m\u001b[0msub\u001b[0m\u001b[1;33m(\u001b[0m\u001b[1;34m\"_\"\u001b[0m\u001b[1;33m,\u001b[0m\u001b[1;34m\"\"\u001b[0m\u001b[1;33m,\u001b[0m\u001b[0mtitles\u001b[0m\u001b[1;33m[\u001b[0m\u001b[0mi\u001b[0m\u001b[1;33m]\u001b[0m\u001b[1;33m)\u001b[0m\u001b[1;33m\u001b[0m\u001b[1;33m\u001b[0m\u001b[0m\n\u001b[0;32m      4\u001b[0m \u001b[1;32mfor\u001b[0m \u001b[0mj\u001b[0m \u001b[1;32min\u001b[0m \u001b[0mrange\u001b[0m\u001b[1;33m(\u001b[0m\u001b[0mlen\u001b[0m\u001b[1;33m(\u001b[0m\u001b[0mposneg\u001b[0m\u001b[1;33m)\u001b[0m\u001b[1;33m)\u001b[0m\u001b[1;33m:\u001b[0m\u001b[1;33m\u001b[0m\u001b[1;33m\u001b[0m\u001b[0m\n\u001b[0;32m      5\u001b[0m     \u001b[0mposflag\u001b[0m \u001b[1;33m=\u001b[0m \u001b[1;32mFalse\u001b[0m\u001b[1;33m\u001b[0m\u001b[1;33m\u001b[0m\u001b[0m\n",
      "\u001b[1;31mTypeError\u001b[0m: 'DataFrame' object cannot be interpreted as an integer"
     ]
    }
   ],
   "source": [
    "label = []\n",
    "for i in range(titles):\n",
    "    clean_title=re.sub(\"_\",\"\",titles[i])\n",
    "for j in range(len(posneg)):\n",
    "    posflag = False\n",
    "    negflag = False\n",
    "    if j < (len(positive)-1):\n",
    "        if clean_title.find(posneg[j])!= -1:\n",
    "            posflag=True\n",
    "            print(j,\"positive?\",\"테스트 :\",snack.find[posneg[j]],\"비교단어 : \",posneg[j],\"인덱스 : \",j,snack)\n",
    "            break\n",
    "    if j > (len(positvie)-2):\n",
    "        if clean_title.find(posneg[j])!= -1:\n",
    "            negflag=True\n",
    "            print(j,\"negative?\",\"테스트 :\",snack.find[posneg[j]],\"비교단어 : \",posneg[j],\"인덱스 : \",j,snack)\n",
    "            break\n",
    "    if posflag ==True:\n",
    "        label.append(1)\n",
    "    elif negfalg ==True:\n",
    "        label.append(-1)\n",
    "    elif negfalg ==False and posflag==False:\n",
    "        label.append(0)\n",
    "    \n",
    "my_title_dic['label']=label\n",
    "my_title_dic\n",
    "            "
   ]
  }
 ],
 "metadata": {
  "kernelspec": {
   "display_name": "Python 3",
   "language": "python",
   "name": "python3"
  },
  "language_info": {
   "codemirror_mode": {
    "name": "ipython",
    "version": 3
   },
   "file_extension": ".py",
   "mimetype": "text/x-python",
   "name": "python",
   "nbconvert_exporter": "python",
   "pygments_lexer": "ipython3",
   "version": "3.8.3"
  }
 },
 "nbformat": 4,
 "nbformat_minor": 4
}
