{
 "cells": [
  {
   "cell_type": "markdown",
   "metadata": {},
   "source": [
    "# 9주차 과제"
   ]
  },
  {
   "cell_type": "markdown",
   "metadata": {},
   "source": [
    "### 한국어 word2vec\n",
    "  단어들 간의 유사도를 분석하기 위해 벡터화 하는 방법"
   ]
  },
  {
   "cell_type": "code",
   "execution_count": 83,
   "metadata": {},
   "outputs": [],
   "source": [
    "import pandas as pd\n",
    "import matplotlib.pyplot as plt\n",
    "import urllib.request\n",
    "from gensim.models.word2vec import Word2Vec\n",
    "from konlpy.tag import Okt"
   ]
  },
  {
   "cell_type": "code",
   "execution_count": 110,
   "metadata": {},
   "outputs": [],
   "source": [
    "movie_review= pd.read_csv(\"C:/Users/sungj/jspyth/movie_data.csv\",encoding='UTF-16',header=None)\n",
    "movie=movie_review[[2,1,0]] #영화 이름 ,평점, 리뷰 순으로 바꾸기"
   ]
  },
  {
   "cell_type": "code",
   "execution_count": 111,
   "metadata": {},
   "outputs": [
    {
     "data": {
      "text/html": [
       "<div>\n",
       "<style scoped>\n",
       "    .dataframe tbody tr th:only-of-type {\n",
       "        vertical-align: middle;\n",
       "    }\n",
       "\n",
       "    .dataframe tbody tr th {\n",
       "        vertical-align: top;\n",
       "    }\n",
       "\n",
       "    .dataframe thead th {\n",
       "        text-align: right;\n",
       "    }\n",
       "</style>\n",
       "<table border=\"1\" class=\"dataframe\">\n",
       "  <thead>\n",
       "    <tr style=\"text-align: right;\">\n",
       "      <th></th>\n",
       "      <th>2</th>\n",
       "      <th>1</th>\n",
       "      <th>0</th>\n",
       "    </tr>\n",
       "  </thead>\n",
       "  <tbody>\n",
       "    <tr>\n",
       "      <th>0</th>\n",
       "      <td>인피니티 워</td>\n",
       "      <td>9</td>\n",
       "      <td>오~~ 종합선물셋트</td>\n",
       "    </tr>\n",
       "    <tr>\n",
       "      <th>1</th>\n",
       "      <td>인피니티 워</td>\n",
       "      <td>10</td>\n",
       "      <td>크레딧 올라올때부터 충격먹었어요 ㅋㅋㅋㅋ 나중에 더큰 활약기대하겠습니다! 와칸다포에...</td>\n",
       "    </tr>\n",
       "    <tr>\n",
       "      <th>2</th>\n",
       "      <td>인피니티 워</td>\n",
       "      <td>10</td>\n",
       "      <td>이제 남은건타노스 밖에</td>\n",
       "    </tr>\n",
       "    <tr>\n",
       "      <th>3</th>\n",
       "      <td>인피니티 워</td>\n",
       "      <td>9</td>\n",
       "      <td>타노스는 발암물질이다.</td>\n",
       "    </tr>\n",
       "    <tr>\n",
       "      <th>4</th>\n",
       "      <td>인피니티 워</td>\n",
       "      <td>10</td>\n",
       "      <td>정말재미있게봤습니다</td>\n",
       "    </tr>\n",
       "    <tr>\n",
       "      <th>...</th>\n",
       "      <td>...</td>\n",
       "      <td>...</td>\n",
       "      <td>...</td>\n",
       "    </tr>\n",
       "    <tr>\n",
       "      <th>1822</th>\n",
       "      <td>코코</td>\n",
       "      <td>10</td>\n",
       "      <td>갈수록 디즈니 애니의 퀄리티가 막막 업그레이드 되는 것이 느껴진다! 넘 감동적......</td>\n",
       "    </tr>\n",
       "    <tr>\n",
       "      <th>1823</th>\n",
       "      <td>코코</td>\n",
       "      <td>9</td>\n",
       "      <td>가족의 의미와 꿈많은 소년의 하고싶은 것을 성취해나가는 과정이 감명깊습니다.</td>\n",
       "    </tr>\n",
       "    <tr>\n",
       "      <th>1824</th>\n",
       "      <td>코코</td>\n",
       "      <td>9</td>\n",
       "      <td>초등학생 1학년 아이와 함께 긴시간이지만 잼있게  봤네요.. 아이와 함께 보기 추천요~</td>\n",
       "    </tr>\n",
       "    <tr>\n",
       "      <th>1825</th>\n",
       "      <td>코코</td>\n",
       "      <td>8</td>\n",
       "      <td>좀 이상한 사후세계지만 엄청난 영화!</td>\n",
       "    </tr>\n",
       "    <tr>\n",
       "      <th>1826</th>\n",
       "      <td>코코</td>\n",
       "      <td>10</td>\n",
       "      <td>이제 시부모님랑 신랑이랑 제가 얼굴도 모르는 시댁 조상 차례지내고  추억얘기할때 이...</td>\n",
       "    </tr>\n",
       "  </tbody>\n",
       "</table>\n",
       "<p>1827 rows × 3 columns</p>\n",
       "</div>"
      ],
      "text/plain": [
       "           2   1                                                  0\n",
       "0     인피니티 워   9                                         오~~ 종합선물셋트\n",
       "1     인피니티 워  10  크레딧 올라올때부터 충격먹었어요 ㅋㅋㅋㅋ 나중에 더큰 활약기대하겠습니다! 와칸다포에...\n",
       "2     인피니티 워  10                                       이제 남은건타노스 밖에\n",
       "3     인피니티 워   9                                       타노스는 발암물질이다.\n",
       "4     인피니티 워  10                                         정말재미있게봤습니다\n",
       "...      ...  ..                                                ...\n",
       "1822      코코  10  갈수록 디즈니 애니의 퀄리티가 막막 업그레이드 되는 것이 느껴진다! 넘 감동적......\n",
       "1823      코코   9         가족의 의미와 꿈많은 소년의 하고싶은 것을 성취해나가는 과정이 감명깊습니다.\n",
       "1824      코코   9   초등학생 1학년 아이와 함께 긴시간이지만 잼있게  봤네요.. 아이와 함께 보기 추천요~\n",
       "1825      코코   8                               좀 이상한 사후세계지만 엄청난 영화!\n",
       "1826      코코  10  이제 시부모님랑 신랑이랑 제가 얼굴도 모르는 시댁 조상 차례지내고  추억얘기할때 이...\n",
       "\n",
       "[1827 rows x 3 columns]"
      ]
     },
     "execution_count": 111,
     "metadata": {},
     "output_type": "execute_result"
    }
   ],
   "source": [
    "movie"
   ]
  },
  {
   "cell_type": "code",
   "execution_count": 112,
   "metadata": {},
   "outputs": [
    {
     "name": "stdout",
     "output_type": "stream",
     "text": [
      "1827\n"
     ]
    }
   ],
   "source": [
    "print(len(movie)) #리뷰 갯수 확인"
   ]
  },
  {
   "cell_type": "code",
   "execution_count": 113,
   "metadata": {},
   "outputs": [
    {
     "name": "stdout",
     "output_type": "stream",
     "text": [
      "False\n"
     ]
    }
   ],
   "source": [
    "print(movie.isnull().values.any()) #결측값 확인-False면 결측값이 존재 x"
   ]
  },
  {
   "cell_type": "code",
   "execution_count": 115,
   "metadata": {},
   "outputs": [],
   "source": [
    "movie[0] = movie[0].str.replace(\"[^ㄱ-ㅎㅏ-ㅣ가-힣 ]\",\"\") #한글을 제외하고 문자 제거"
   ]
  },
  {
   "cell_type": "code",
   "execution_count": 142,
   "metadata": {},
   "outputs": [],
   "source": [
    "stopwords= ['이','는','의','그','은','들','만','이다','하다','요','도','잘','보고','나다','영화','왜','좀'] #불용어 임의로 설정"
   ]
  },
  {
   "cell_type": "code",
   "execution_count": 143,
   "metadata": {},
   "outputs": [],
   "source": [
    "okt = Okt()\n",
    "tokenized_data = []\n",
    "for sentence in movie[0]:\n",
    "    temp_X = okt.nouns(sentence) # 토큰화\n",
    "    temp_X = [word for word in temp_X if not word in stopwords] # 불용어 제거\n",
    "    tokenized_data.append(temp_X)"
   ]
  },
  {
   "cell_type": "code",
   "execution_count": 156,
   "metadata": {},
   "outputs": [],
   "source": [
    "from gensim.models import Word2Vec #sg=1로 설정하여 skip-gram을 사용\n",
    "model = Word2Vec(sentences = tokenized_data, size = 200, window = 10, min_count = 30, workers = 10, sg = 1)"
   ]
  },
  {
   "cell_type": "code",
   "execution_count": 157,
   "metadata": {},
   "outputs": [
    {
     "data": {
      "text/plain": [
       "(72, 200)"
      ]
     },
     "execution_count": 157,
     "metadata": {},
     "output_type": "execute_result"
    }
   ],
   "source": [
    "model.wv.vectors.shape"
   ]
  },
  {
   "cell_type": "code",
   "execution_count": 160,
   "metadata": {},
   "outputs": [
    {
     "name": "stdout",
     "output_type": "stream",
     "text": [
      "[('정도', 0.9539969563484192), ('것', 0.9538789391517639), ('귀신', 0.9530411958694458), ('점', 0.951529860496521), ('스토리', 0.9509220123291016), ('진짜', 0.9494526386260986), ('부분', 0.948006272315979), ('사랑', 0.94586580991745), ('이해', 0.9457229971885681), ('마지막', 0.9449522495269775)]\n"
     ]
    }
   ],
   "source": [
    "print(model.wv.most_similar(\"코코\"))"
   ]
  }
 ],
 "metadata": {
  "kernelspec": {
   "display_name": "Python 3",
   "language": "python",
   "name": "python3"
  },
  "language_info": {
   "codemirror_mode": {
    "name": "ipython",
    "version": 3
   },
   "file_extension": ".py",
   "mimetype": "text/x-python",
   "name": "python",
   "nbconvert_exporter": "python",
   "pygments_lexer": "ipython3",
   "version": "3.8.3"
  }
 },
 "nbformat": 4,
 "nbformat_minor": 4
}
